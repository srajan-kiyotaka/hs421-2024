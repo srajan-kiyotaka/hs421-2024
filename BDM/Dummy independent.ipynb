{
 "cells": [
  {
   "cell_type": "markdown",
   "metadata": {},
   "source": [
    "# Dummy variable \n",
    "Lecture notes by\n",
    "_Sunil Paul_\n",
    "\n",
    "- The materials in this notebook is prepared using G S Maddala's \"Introduction to econometrics\".\n",
    "- Kindly refrain from circulating this note outside the class, as I haven't included citations for all the textbooks/paper I referenced in the preparation of these notes.\n",
    "- Also see Ch 6, Diebold, F.X. (2019), Econometric Data Science: A Predictive Modeling Approach, Department of Economics, University of Pennsylvania, http://www.ssc.upenn.edu/~fdiebold/Textbooks.html.”-\n",
    "\n",
    "## Introduction\n",
    "\n",
    "In some instances, it becomes necessary to incorporate qualitative variables as explanatory factors in regression analysis. In such scenarios, proxy variables are constructed to represent these qualitative aspects. Dummy variables serve this purpose effectively. A dummy variable is an artificial construct that assumes a value of 1 when the qualitative attribute it represents is present, and 0 otherwise. For instance, 1 might denote female gender while 0 signifies male gender, or 1 could represent college graduation while 0 denotes otherwise. Dummy variables are integrated into regression models alongside other explanatory variables.\n",
    "\n",
    "__Example:__ Suppose we have data on income of females and males. Assume that income is dependent on the gender of the individual, then we can model this relation as follows: $$Y=\\alpha _{f}D_{f}+\\alpha _{m}D_{m}+\\varepsilon,$$ where $Y$ is the income, $D_{f}$ is a dummy variable taking the value one whenever the observation in question is a female and zero otherwise. $D_{m}$ is also defined likewise for the males."
   ]
  },
  {
   "cell_type": "markdown",
   "metadata": {},
   "source": [
    "The equation in the example given above does not contain an intercept. Note that $D_{f}+D_{m}=1.$ __dummy variable trap__. Hence if we have a qualitative variable with '$m$' categories we can use only '$m-1$' dummy variables to represent them in a regression with intercept. Dropping $D_{m}$ we may rewrite the example given above as $$Y=\\alpha _{0}+\\alpha _{f}D_{f}+\\varepsilon.$$ The category for which no dummy variable is assigned is known as the base, benchmark, control, comparison, reference, or omitted category. And all comparisons are made in relation to the benchmark category."
   ]
  },
  {
   "cell_type": "markdown",
   "metadata": {},
   "source": [
    "## Uses and Interpretations \n",
    "\n",
    "We will begin with models that exclusively employ dummy variables as explanatory factors. Such models are known as Analysis of Variance (ANOVA) models\n",
    "### Models with one dummy variable as explanatory variable}\n",
    "\n",
    "Consider the following model\n",
    "\n",
    "$Y_{i}=\\alpha _{0}+\\varepsilon_{i}$\n",
    "\n",
    "then we can interpret the intercept $\\hat{\\alpha}_{0}$ as unconditional mean\n",
    "of $Y$."
   ]
  },
  {
   "cell_type": "markdown",
   "metadata": {},
   "source": [
    "Suppose we have data on the income of males and females. We can run two separate regression models as follows:\n",
    "\n",
    "$$Y_{f}=\\alpha _{1}+\\varepsilon_f,$$ and $$Y_{m}=\\alpha _{2}+\\varepsilon_m,$$where $Y_{f}$ is the income\n",
    "of female professors and $Y_{m}$ is the income of male professors.$\\alpha _{1},\\alpha _{2}$ are the average income of females and males respectively. If we combine these equations using dummy variables as follows\n",
    "\n",
    "$$Y=\\alpha _{f}D_{f}+\\alpha _{m}D_{m}+\\varepsilon,$$. In this case the coefficients of\n",
    "dummy variables can be considered as expected income of respective\n",
    "categories.\n",
    "\n",
    "in this case, the coefficients of the dummy variables can be interpreted as the expected income of the respective categories. However, if we combine the two equations including an intercept in the model, then the combined regression model can be expressed as follows:$$\\begin{aligned}Y&=\\beta _{0}+(\\alpha _{1}-\\alpha _{0})D_{f}+\\varepsilon\\\\&=\\beta _{0}+\\beta _{f}D_{f}+\\varepsilon,\\end{aligned}$$\n",
    "where the intercept $\\beta_0$ reflects the average income of the omitted categoryand $\\beta _{f}$ is the difference in average income between females and males in the sample. Generally we follow a specification with intercept\n",
    "term. ( You can also see what would be the conditional expectation of Y\n",
    "given $D=1$, or $D=0$)"
   ]
  },
  {
   "cell_type": "markdown",
   "metadata": {},
   "source": [
    "| Average Income  | With intercept                         | Without intercept                   |\n",
    "|-----------------|---------------------------------------|-------------------------------------|\n",
    "| Males ($D_{m}=1)$ | $E(Y|D_{f}=0)=\\beta _{0}$            | $E(Y|D_{f}=0,D_{m}=1)=\\alpha _{m}$  |\n",
    "| Females ($D_{f}=1)$| $E(Y|D_{f}=0)=\\beta _{0}+\\beta _{1}$ | $E(Y|D_{f}=1,D_{m}=0)=\\alpha _{f}$  |\n"
   ]
  },
  {
   "cell_type": "markdown",
   "metadata": {},
   "source": [
    "### Models with an additional dummy variable\n",
    "Now, let's consider the scenario where we assume that individuals' income also depends on their profession. Assuming the profession has three categories, we can create the following dummy variables\n",
    "\n",
    "$D_{d}=1$ if the individual is a doctor and 0 otherwise,\n",
    "\n",
    "$D_{p}=1$ if the individual is a professor 0 otherwise, and\n",
    "\n",
    "$D_{l}=1$ if the individual is a lawyer0 otherwise\n",
    "\n",
    "We have already defined $D_{f}$ $\\ $and $Dm$.\n",
    "\n",
    "Then we may specify the model as follows\n",
    "\n",
    "$Y=\\alpha _{f}D_{f}+\\alpha _{m}D_{m}+\\alpha _{p}D_{p}+\\alpha _{l}D_{l}+\\varepsilon$\n",
    "(without intercept)\n",
    "\n",
    "or\n",
    "\n",
    "$Y=\\beta _{0}+\\beta _{m}D_{m}+\\beta _{p}D_{p}+\\beta _{l}D_{l}+\\varepsilon $ (with\n",
    "intercept)"
   ]
  },
  {
   "cell_type": "markdown",
   "metadata": {},
   "source": [
    " We have omitted one dummy variable ($D_{p})$ from the model without\n",
    "intercept . If such a dummy is added then there would be perfect\n",
    "multicollinearity since $D_{f}+D_{m}=D_{d}+D_{p}+D_{l}.$ Similarly we had\n",
    "omitted one category each from profession and gender ( $D_{f}$ and $D_{p})$\n",
    "in the second model with intercept for the same reasons.\n",
    "\n",
    "We can have\n",
    "\n",
    "$\\alpha _{f}=\\beta _{0}$=average income of a female doctor\n",
    "\n",
    "$\\alpha _{m}=\\beta _{0}+\\beta _{m}$=average income of a male Doctor\n",
    "\n",
    "$\\alpha _{f}+\\alpha _{p}=\\beta _{0}+\\beta _{p}$=average income of a female\n",
    "doctor professor\n",
    "\n",
    "$\\alpha _{f}+\\alpha _{l}=\\beta _{0}+\\beta _{l}$=average income of a female\n",
    "lawyer\n",
    "\n",
    "$\\alpha _{m}+\\alpha _{p}=\\beta _{0}+\\beta _{p}+\\beta _{m}$=average income of\n",
    "a male professor\n",
    "\n",
    "$\\alpha _{m}+\\alpha _{l}=\\beta _{0}+\\beta _{l}+\\beta _{m}$=average income of\n",
    "a male \\ \\ lawyer\n",
    "\n",
    "Similarly we can create a set of new dummy variables combing profession and gender as follows\n",
    "\n",
    "$Y=\\alpha _{fd}D_{fd}+\\alpha _{md}D_{md}+\\alpha _{fp}D_{fp}+\\alpha\n",
    "_{mp}D_{mp}+\\alpha _{fl}D_{fl}+\\alpha _{ml}D_{ml}+\\varepsilon$\n",
    "\n",
    "or\n",
    "\n",
    "$Y=\\beta _{0}^{\\prime }+\\beta _{fd}D_{fd}+\\beta _{md}D_{md}+\\beta\n",
    "_{fp}D_{fp}+\\beta _{mp}D_{mp}+\\beta _{fl}D_{fl}+u$\n",
    "\n",
    "where\n",
    "\n",
    "$D_{fd}=1$ for a female doctor and 0 otherwise, ($D_{f}\\times D_{d})$\n",
    "\n",
    "$D_{fp}=1$ for female professor 0 otherwise, ($D_{f}\\times D_{p})$\n",
    "\n",
    "$Df_{l}=1$ for female lawyer 0 otherwise ($D_{f}\\times D_{l})$\n",
    "\n",
    "$D_{md}=1$ for a male doctor and 0 otherwise, ($D_{m}\\times D_{d})$\n",
    "\n",
    "$D_{mp}=1$ for male professor 0 otherwise, ($D_{m}\\times D_{p})$\n",
    "\n",
    "$Dm_{l}=1$ for male lawyer 0 otherwise ($D_{m}\\times D_{l})$"
   ]
  },
  {
   "cell_type": "markdown",
   "metadata": {},
   "source": [
    "The interpretations of these coefficients are straightforward. The key difference between this method and the former method is that the former assumes the difference between males and females is equal for all professions, while the latter model allows for interaction effects. From now on, we will use regression models with intercept only.\n",
    "\n",
    "Regression models with only dummy variables as explanatory variables are unrealistic. More often, we will have a combination of qualitative and quantitative variables. In such models, dummy variables are used to:\n",
    "\n",
    "- allow differences in intercept terms,\n",
    "- allow for differences in slopes,\n",
    "- test for the stability of regression coefficients, and\n",
    "- conduct piecewise regressions."
   ]
  },
  {
   "cell_type": "markdown",
   "metadata": {},
   "source": [
    "#### Dummy variable for changes in the intercept term\n",
    "\n",
    "If the slope of the regression model is the same but not the intercept, we can use dummy variables to capture the change in the intercept. Consider regression models where the slope of the two groups is the same but not the intercept, i.e., we have a regression equation$Y=\\alpha _{1}+\\beta X+\\varepsilon$ for one group and $Y=\\alpha _{2}+\\beta X+\\varepsilon,$ where $\\alpha _{1}\\neq \\alpha _{2}.$\n",
    "\n",
    "These equations can be combined into a single equation; $$\\begin{aligned}Y&=\\alpha\n",
    "_{1}+(\\alpha _{2}-\\alpha _{1})D+\\beta X+\\varepsilon\\\\&=\\alpha _{1}+\\gamma D+\\beta X+\\varepsilon,\\end{aligned}$$\n",
    "where $D=1$ for group 2 and 0 otherwise."
   ]
  },
  {
   "cell_type": "markdown",
   "metadata": {},
   "source": [
    "The interpretation of coefficients is straightforward. The constant term ($\\alpha _{1}$) gives the intercept term for the first group, and the sum of the intercept and the coefficient of the dummy variable ($\\alpha _{1}+\\gamma$) gives the intercept for the second group.\n",
    "\n",
    "(We can also use dummy variables to pick out and control for seasonal variation in data. The idea is to include a set of dummy variables for each quarter (or month or day), which will then net out the average change in a variable resulting from any seasonal fluctuations.)\n"
   ]
  },
  {
   "cell_type": "markdown",
   "metadata": {},
   "source": [
    "### Dummy variable for changes in slope coefficients\n",
    "We can use dummy variables to allow for differences in slope coefficients as well. For example, if the regression equations are:\n",
    "$$Y_{1}=\\alpha _{1}+\\beta _{1}X_{1}+\\varepsilon_{1} $$ for the first group,\n",
    "\n",
    "$$ Y_{2}=\\alpha _{2}+\\beta _{2}X_{2}+\\varepsilon_{2} $$ for the second group,\n",
    "\n",
    "we can combine these equations using a dummy variable as follows:\n",
    "\n",
    "$$ Y=\\alpha _{1}+(\\alpha _{2}-\\alpha _{1})D+\\beta _{1}X+(\\beta _{2}-\\beta _{1})(X\\ast D)+\\varepsilon $$\n",
    "\n",
    "$$ =\\alpha _{1}+\\gamma _{1}D_{1}+\\beta _{1}X+\\gamma _{2}D_{2}+\\varepsilon $$\n",
    "\n",
    "where $ Y=Y_{1}+Y_{2},  X=X_{1}+X_{2}, D_{1}$ (or $D$) equals 1 for group 2 and 0 otherwise, and  $D_{2}  (=X\\ast D)$ is the product of the dummy and $ X $. here $ D_{2}=X_{2} $ for all observations in the second group and zero otherwise. The coefficient of $ D_{1} $ measures the difference in the intercept terms, and the coefficient of $ D_{2} $measures the difference in the slope. The distribution of the error term is assumed to be identical for both groups. Likewise, we can use dummy variables to allow for changes in intercept terms, changes in slope terms, changes in both slopes and intercepts, etc.\n"
   ]
  },
  {
   "cell_type": "markdown",
   "metadata": {},
   "source": [
    "### Dummy variables for testing stability of regression coefficients"
   ]
  },
  {
   "cell_type": "markdown",
   "metadata": {},
   "source": [
    "Dummy variables can be used to test for stability of regression coefficients.\n",
    "\n",
    "Consider the equations below:\n",
    "\n",
    "$ Y_{1}=\\alpha _{1}+\\beta _{1}X_{1}+\\gamma _{1}Z_{1}+\\varepsilon_{1} $ (for the first period)\n",
    "\n",
    "$ Y_{2}=\\alpha _{2}+\\beta _{2}X_{2}+\\gamma _{2}Z_{2}+\\varepsilon_{2} $ (for the second period)\n",
    "\n",
    "\n",
    "Where $ Y_{1}, X_{1}, Z_{1} $ are the observations of $ Y, X,$ and $ Z $ for the first period, and $ Y_{2}, X_{2}, Z_{2} $ are the observations for the second period.\n",
    "\n",
    "A test for the stability of the parameters between the populations generated by the two data sets is a test of the hypotheses:\n",
    "\n",
    "$$ H_{0}:\\alpha _{1}=\\alpha _{2},\\beta _{1}=\\beta _{2},\\gamma _{1}=\\gamma _{2}$$\n",
    "\n",
    "To test this hypothesis, we can use F statistics. \n",
    "\n",
    "Let us define:\n",
    "\n",
    "$ SSR_{1} $ =  sum of squares of residuals  for the first data set\n",
    "\n",
    "$ SSR_{2} $ = sum of squares of residuals  for the second data set\n",
    "\n",
    "\n",
    "The unrestricted SSR (USSR) can be obtained by $ SSR_{1}+SSR_{2} $. Restricted SSR (RSSR) can be obtained from regression with the pooled data.\n",
    "\n",
    "Then, we can define the F statistic as follows:\n",
    "\n",
    "$$ F=\\frac{(RSSR-USSR)/(k)}{USSR/(n_{1}+n_{2}-2k)} $$\n",
    "\n",
    "Where $ k $ is the number of parameters, $ n_{1} $ is the number of observations in the first period, and $ n_{2} $ is the number of observations in the second period. Then, the usual test procedure can be applied to test the hypothesis.\n",
    "\n",
    "The same test can be done using dummy variables. Let us combine the two equations into one as follows:\n",
    "\n",
    "$$ Y=\\alpha _{1}+(\\alpha _{2}-\\alpha _{1})D+\\beta _{1}X+(\\beta _{2}-\\beta _{1})(D\\ast X)+\\gamma _{1}Z+(\\gamma _{2}-\\gamma _{1})(D\\ast Z)+\\varepsilon$$"
   ]
  },
  {
   "cell_type": "markdown",
   "metadata": {},
   "source": [
    "Where$ D=1 $ for the second period and 0 for the first period.\n",
    "\n",
    "Or,\n",
    "\n",
    "$$ Y=\\alpha _{1}+\\alpha _{2}^{\\ast }D_{1}+\\beta _{1}X+\\beta _{2}^{\\ast }D_{2}+\\gamma _{1}Z+\\gamma _{2}^{\\ast }D_{3}+\\varepsilon\n",
    "$$\n",
    "\n",
    "Where:\n",
    "$ D_{1}=1 $ for the period 2, 0 for period 1\n",
    "\n",
    "$ D_{2}=X $ for the period 2($X_{2}$), 0 for period 1\n",
    "\n",
    "$D_{2}=Z$ for the period 2$(Z_{2})$, 0 for period 1\n",
    "\n",
    "$\\alpha _{2}^{\\ast }=\\alpha _{2}-\\alpha _{1}$\n",
    "\n",
    "$\\beta _{2}^{\\ast }=\\beta _{2}-\\beta _{1}$\n",
    "\n",
    "$\\gamma _{2}^{\\ast }=\\gamma _{2}-\\gamma _{1}$\n",
    "\n",
    "\n",
    "The Unrestricted SSR(USSR) can be obtained from the equation above, and the restricted RSS can be obtained by deleting the dummy variables based on the hypothesis we intend to test. A summary of the tests based on dummy variables is given below:\n",
    "\n",
    "| Hypothesis                                                     | Variables Deleted |\n",
    "|----------------------------------------------------------------|-------------------|\n",
    "| 1) All coefficients same ($ \\alpha _{1}=\\alpha _{2},\\beta _{1}=\\beta _{2},\\gamma _{1}=\\gamma _{2} $) | $ D_{1},D_{2},D_{3} $ |\n",
    "| 2) Only Intercepts Change ($ \\beta _{1}=\\beta _{2},\\gamma _{1}=\\gamma _{2} $)                  | $ D_{2},D_{3} $ |\n",
    "| 3) Only intercepts and coefficients of Z change ($ \\beta _{1}=\\beta _{2} $)                        | $ D_{2} $ |\n",
    "\n",
    "Once you obtain RSSR and USSR, you can calculate the F statistic and follow the usual testing procedure."
   ]
  },
  {
   "cell_type": "markdown",
   "metadata": {},
   "source": [
    "### Piecewise Linear Regression\n",
    "\n",
    "In certain cases, the regression relationship may change after certain thresholds. We capture such relationships using dummy variables. These models are known as Piecewise regressions. For example, let $Y$ represent sales commission, $X$ denote the volume of sales by the salesperson, and $X^*$ is the\n",
    "threshold value and suppose once he reached at $X^*$ his incentive structure changes and gets more commission per sales. Now let us define the dummy $D=1$\n",
    "if $X>X^{\\ast }$ and $0$ if $X<X^{\\ast }$. \n",
    "\n",
    "Then we will get the model as follows\n",
    "\n",
    "$$Y=\\alpha +\\beta _{1}X+\\beta _{2}(X-X^{\\ast })D+\\varepsilon$$\n",
    "\n",
    "It is easy to verify that\n",
    "\n",
    "$E(Y/D=0,X,X^{\\ast })=\\alpha +\\beta _{1}X$\n",
    "\n",
    "$E(y/D=1,X,X^{\\ast })=\\alpha +\\beta _{2}X^{\\ast }+(\\beta _{1}+\\beta _{2})X$\n",
    "\n"
   ]
  },
  {
   "cell_type": "code",
   "execution_count": null,
   "metadata": {},
   "outputs": [],
   "source": []
  }
 ],
 "metadata": {
  "_draft": {
   "nbviewer_url": "https://gist.github.com/a84424be8fad7b4089241dd31e0c63c6"
  },
  "gist": {
   "data": {
    "description": "OneDrive/HS421/Notes/Untitled1.ipynb",
    "public": false
   },
   "id": "a84424be8fad7b4089241dd31e0c63c6"
  },
  "kernelspec": {
   "display_name": "R 4.2.2",
   "language": "R",
   "name": "ir42"
  },
  "language_info": {
   "codemirror_mode": "r",
   "file_extension": ".r",
   "mimetype": "text/x-r-source",
   "name": "R",
   "pygments_lexer": "r",
   "version": "4.2.2"
  },
  "latex_envs": {
   "LaTeX_envs_menu_present": true,
   "autoclose": false,
   "autocomplete": true,
   "bibliofile": "biblio.bib",
   "cite_by": "apalike",
   "current_citInitial": 1,
   "eqLabelWithNumbers": true,
   "eqNumInitial": 1,
   "hotkeys": {
    "equation": "Ctrl-E",
    "itemize": "Ctrl-I"
   },
   "labels_anchors": false,
   "latex_user_defs": false,
   "report_style_numbering": false,
   "user_envs_cfg": false
  },
  "toc": {
   "base_numbering": 1,
   "nav_menu": {},
   "number_sections": true,
   "sideBar": true,
   "skip_h1_title": true,
   "title_cell": "Table of Contents",
   "title_sidebar": "Contents",
   "toc_cell": false,
   "toc_position": {
    "height": "calc(100% - 180px)",
    "left": "10px",
    "top": "150px",
    "width": "164.992px"
   },
   "toc_section_display": true,
   "toc_window_display": true
  }
 },
 "nbformat": 4,
 "nbformat_minor": 4
}
