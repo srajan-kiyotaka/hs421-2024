{
 "cells": [
  {
   "cell_type": "markdown",
   "metadata": {},
   "source": [
    "# Violations of Ideal Condition: Specification errors"
   ]
  },
  {
   "cell_type": "markdown",
   "metadata": {},
   "source": [
    "## Ideal conditions Again\n",
    "\n",
    "1. The data-generating process (DGP) is:\n",
    "$$y=X\\beta+\\varepsilon$$\n",
    "$$\\varepsilon \\sim N(0,\\sigma^2 I)$$ and the fitted model matches it exactly.\n",
    "\n",
    "    1. The fitted model is correctly specified\n",
    "    2.  The disturbances are Gaussian\n",
    "    3.  The coefficients$(\\beta)$ are fixed\n",
    "    3. The relationship is linear\n",
    "    4. $Var(\\varepsilon)=\\sigma^2I$; variance of error are constant\n",
    "    5. $E(\\varepsilon_i\\varepsilon_j)=0;i\\ne j$ errors are uncorrelated\n",
    "2. $E(\\varepsilon X)=0 $  errors are  independent of $X$\n",
    "    1. $E(\\varepsilon|X)=0$\n",
    "    2. $Var(\\varepsilon|X)=\\sigma^2$"
   ]
  },
  {
   "cell_type": "markdown",
   "metadata": {},
   "source": [
    "## Specification errors (IC 1.A)\n",
    "\n",
    "### Ommitted variable Bias\n",
    "\n",
    "Let the true model is given by $\\ddot{y_i}=\\beta _{1}\\ddot{x}_{1i}+\\beta _{2}\\ddot{x}_{2i}+\\varepsilon$\n",
    "(variables are expressed in deviation form ie $\\ddot{y}=y-\\bar{y}$.) and we estimate the model $\\ddot{y_i}=\\beta _{1}\\ddot{x}_{1i}+u$ (Misspecified model).<sup>[1](#myfootnote1)</sup> (we won't use the subscript 'i' hereafter and $y$ as $y_i$)\n",
    "\n",
    "Let the estimate of $\\beta _{1}$\n",
    "in the misspecified model equal to $\\widehat{\\beta }_{1}$ which is equal to $%\n",
    "\\frac{\\sum \\ddot{x}_{1}\\ddot{y}}{\\sum \\ddot{x}_{1}^{2}}$. Now substitute the true model into the\n",
    "expression of $\\widehat{\\beta }_{1}$. Then we get"
   ]
  },
  {
   "cell_type": "markdown",
   "metadata": {},
   "source": [
    "$$\\widehat{\\beta }_{1} =\\frac{\\sum \\ddot{x}_{1}(\\beta _{1}\\ddot{x}_{1}+\\beta _{2}\\ddot{x}_{2}+\\varepsilon)\n",
    "}{\\Sigma \\ddot{x}_{1}^{2}}=\\beta _{1}+\\beta _{2}\\frac{\\Sigma \\ddot{x}_{1}\\ddot{x}_{2}}{\\sum \\ddot{x}_{1}^{2}}\n",
    "+\\frac{\\sum \\ddot{x}_{1}\\varepsilon}{\\sum \\ddot{x}_{1}^{2}}$$ since $E(\\Sigma \\ddot{x}_{1}\\varepsilon)=0$ we get $$E(\n",
    "\\widehat{\\beta }_{1}) =\\beta _{1}+\\beta _{2}b_{21};$$where $b_{21}=\\frac{\\sum \\ddot{x}_{1}\\ddot{x}_{2}}{\\sum \\ddot{x}_{1}^{2}}$ is the regression coefficient from a\n",
    "regression of $x_{2}$ on $x_{1.}$ Hence the coefficient from misspecifed\n",
    "model will be biased."
   ]
  },
  {
   "cell_type": "markdown",
   "metadata": {},
   "source": [
    "The **Bias**=(coefficient of the excluded variable) X (regression coefficient in\n",
    "a regression of the excluded variable on the included variables).\n",
    "\n",
    "From the definition of bias we can also infer that the $\\widehat{\\beta }_{1}$\n",
    "will be unbiased if $\\beta _{2}=0$ (if the omitted variable has no effect on\n",
    "Y) and $b_{21}=0$ (i.e. if $x_{2}$ has no effect on $x_{1}$ i.e. when $x_{2}$\n",
    "and $x_{1}$are uncorrelated).\n",
    "\n",
    "Similarly as the error term captures the influence of omitted variable the variance would be incorrectly estimated as a result the varriance of coefiifients would also be biased.\n",
    " \n",
    "**General case:**\n",
    "\n",
    "If we have k-1 included variable and k th variable is omitted then\n",
    "\n",
    "$E(\\widehat{\\beta }_{i})=\\beta _{i}+b_{ki}\\beta _{k}$ , $i=1.2....,k-1$\n",
    "where $b_{ki}$ is the regression coefficient of $x_{i}$ in the auxiliary\n",
    "regression of $x_{k}$ on $x_{1,}x_{2},...x_{k-1}.$\n",
    "\n",
    "If among k explanatory variable on k1 are included and remaining variable\n",
    "are excluded(k-k1) then the above expression can be written as,\n",
    "\n",
    "$E(\\widehat{\\beta }_{i})=\\beta _{i}+\\sum_{j=k_{1}+1}^{k}b_{ji}\\beta _{k}$ , $%\n",
    "i=1,2,...,k-1$ where $b_{ji}$ is the regression coefficient of the included\n",
    "variable in a regression of the j the omitted variable on all included\n",
    "variable.\n",
    "\n",
    "To summarize, the consequences of omitting a relevant variable are:\n",
    "\n",
    " - If the omitted variable is correlated with the included variable, then the estimates of the constant and slope coefficients are biased and inconsistent\n",
    "\n",
    "- If the omitted variable is not correlated with the included variables, then the slope coefficient is unbiased.\n",
    "\n",
    "-  The disturbance variance $\\sigma ^{2}$is incorrectly estimated.\n",
    "\n",
    "-  The estimated variance of the slope coefficient is a biased estimator of the variance of the true estimator from the fully-specified model.\n",
    "\n",
    "-  As a result, confidence intervals and hypothesis testing procedures are likely to give misleading results about the significance of parameters.\n",
    "\n",
    "Generaly the bias due to omitting relevent variable is known as \"Omitted variable bias\" i.e. If an independent  is correlated with a variable that has been omitted from the analysis  and that determines, in part, the\n",
    "dependent variable , then the OLS estimator will have omitted variable bias.\n",
    "\n",
    "\n",
    "\n",
    "#### Including an Irrelevant Variable\n",
    "\n",
    "Similarly,the consequences of including a irrelevant variable are:\n",
    "\n",
    "- LS estimators ($\\widehat{\\beta })$ and their estimators of variance remain unbiased\n",
    "- LS estimators are not efficient i.e. there variance will be larger (given the included variable are not correlated with other independent variable)"
   ]
  },
  {
   "cell_type": "markdown",
   "metadata": {},
   "source": [
    "#### Example for Omitted variable bias: Is coffe good for health? (reproduced from Stock and Watson pp 214)\n",
    " \n",
    "A study published in the Medicine (Gunter, Murphy, Cross, et al. 2017) Annals of Internal suggested that drinking coffee is linked to a lower risk of disease or death. This study was based on examining 521,330 participants for a mean period of 16 years in 10 European countries. From this sample group, 41,693 deaths were recorded during this period. Another recent study published in The Journal of the American Medical Association (Loftfield, Cornelis, Caporaso, et al. 2018) investigated the link between heavy intake of coffee and risk of mortality. It suggested that drinking six–seven cups of coffee per day was associated with a 16% lower risk of death. This study attracted substantial attention in the U.K. press, with articles bearing headlines such as “Six coffees a day could save your life” and “Have another cup of coffee! Six cups a day could decrease your risk of early death by up to 16%, National Cancer Institute study finds.” Are these headlines accurate? Perhaps not. While they suggest a causal relationship between coffee and life expectancy, there is the potential for omitted variable bias to influence the relationship being established. Reviews of this study, including those by the United Kingdom’s National Health Service (NHS) and the BMJ, note that some people may opt not to drink coffee if they know they have an illness already.\n",
    "\n",
    "Similarly, coffee can be considered as a surrogate endpoint for factors that affect health—income, education, or deprivation—that may confound the observed beneficial associations and introduce errors. According to a paper published in BMJ (Poole, Kennedy, Roderick, et al. 2017), randomized controlled trials (RCTs), or randomized controlled experiments, allow for many of these errors to be removed. In this case, removing the ability of people to select if they should drink coffee and how much they should consume would remove any omitted variable bias arising from differences in income or in expectations about\n",
    "health among coffee drinkers and non-coffee drinkers. Sometimes, however, there may be neither a genuine relationship that an RCT could detect, nor even an omitted variable responsible for the relationship. The website “Spurious Correlations” details many such examples. For instance, the per capita consumption of mozzarella cheese over time  hows a strong, and coincidental, relationship with the award of civil engineering doctorates. Be careful when interpreting the results of regressions!(We will revisit this later in detail)\n",
    "\n",
    "- See the studies by Gunter, Murphy, Cross, et al., “Coffee Drinking and Mortality in 10 European Countries: A Multinational Cohort Study,” Annals of Internal Medicine, http://annals.org, July 11, 2017.\n",
    "\n",
    "- Read the paper on “Association of Coffee Drinking With Mortality by Genetic Variation in Caffeine Metabolism,Findings From the UK Biobank,” by See Loftfield, Cornelis, Caporaso, et al., published in JAMA Internal Medicine,July 2, 2018.\n",
    "\n",
    "- Laura Donnelly, “Six Coffees a Day Could save YourLife,” The Telegraph, July 2, 2018, https://www.telegraph .co.uk; and Mary Kekatos, “Have Another Cup of Coffee! Six Cups a Day Could Decrease Your Risk of Early Death by up to 16%, National Cancer Institute Study Finds,” TheDaily Mail, July 2, 2018.\n",
    "\n",
    "- For further reading, see “Another Study Finds Coffee Might Reduce Risk of Premature Death,” on the NHS website; and “Coffee Consumption and Health: Umbrella Review of Meta-analyses of Multiple Health Outcomes,”by Robin Poole, Oliver J Kennedy, Paul Roderick, Jonathan A. Fallowfield, Peter C Hayes, and Julie Parkes, published on the British Medical Journal (BMJ) website,October 16, 2017, http://dx.doi.org/10.1136/bmj.j5024.\n",
    "\n",
    "- on Spurious Correlations, http:// www.tylervigen.com/spurious-correlations."
   ]
  },
  {
   "cell_type": "markdown",
   "metadata": {},
   "source": [
    "#### Dignostic Tests\n",
    "\n",
    "How to decide which variable to be included in the regression model or not?\n",
    "We can decide whether a variable to be included or excluded \n",
    "-  using economic theory;\n",
    "- Use F test.\n",
    "\n",
    "F test can be nested or non-nested .Both these test are discussed below:\n",
    "\n",
    "Unrestricted model:$y=\\beta _{0}+\\beta _{1}x_{1}+\\beta _{2}x_{2}+\\varepsilon$\n",
    "\n",
    "Restricted model :$y=\\beta _{0}+\\beta _{1}x_{1}+\\varepsilon$\n",
    "\n",
    "Weather to include or exclude $x_{2}$ can be done by constructing F test forthe hypothesis $\\ H_{0}:\\beta _{2}=0.$ This is an example of nested hypothesis. One of the model under consideration can be derived from another. \n",
    "\n",
    "#### Solutions \n",
    "**when other observable variables are avilable** If you include another variable in your multiple regression, you will eliminate the possibility of omitted variable bias from excluding that variable, but the variance of the estimator of the coefficients of interest can increase. Here are some guidelines to help you decide whether to include an additional variable (Stock and Watson):\n",
    "-  Be specific about the coefficient or coefficients of interest.\n",
    "-  Use a-priori reasoning to identify the most important potential sources of omitted variable bias, leading to a base specification and some “questionable” variables.\n",
    "-  Test whether additional, “questionable” control variables have nonzero coefficients, and assess whether including a questionable control variable makesa meaningful change in the coefficient of interest.\n",
    "\n",
    "**when control variables are not available**\n",
    "- Use obserable data from other time period\n",
    "- Instrumental variable regression\n",
    "- Randomised Contralled Experiments\n"
   ]
  },
  {
   "cell_type": "markdown",
   "metadata": {},
   "source": [
    "### Incorrect Functional form (Functional Form Misspecification)\n",
    "\n",
    "Specification errors can happen due to wrong functional form.\n",
    "If the true population regression function is nonlinear but the estimated regression is\n",
    "linear, then this functional form misspecification makes the OLS estimator biased. This\n",
    "bias is a type of omitted variable bias, in which the omitted variables are the terms that\n",
    "reflect the missing nonlinear aspects of the regression function.\n",
    "\n",
    "Let the true functional form relating $Y$ to $X$ is given as follows\n",
    "\n",
    "True Model:$y=\\beta _{0}+\\beta _{1}x+\\beta _{2}x^{2}+\\varepsilon_1$\n",
    "\n",
    "But we estimate the following model instead;\n",
    "\n",
    "$Y=\\beta _{0}+\\beta _{1}x+\\varepsilon_1.$\n",
    "\n",
    "In this case we are omitting an explanatory variables obviously correlated\n",
    "with an included variable, leading to biased and inconsistent OLS estimators.\n",
    "\n",
    "We may also encouter different kind of  'functional form misspecification'\n",
    "\n",
    "Consider the following model for example;\n",
    "\n",
    "True model: $Y=$:$\\beta _{0}+\\beta _{1}\\ln (X)+\\varepsilon_1$\n",
    "\n",
    "Instead we estimate $Y=\\alpha _{0}+\\alpha _{1}X+\\varepsilon_2$\n",
    "\n",
    "#### Tests\n",
    "A general test for function form specification is suggested by Ramsey (1969).The test procedure of Ramsey is given below \n",
    "**Ramsey Regression Specification Error Test(RESET)**\n",
    "\n",
    "Assume that the true model is linear then no non-linear  functions of independent variable should be significant. The steps involved in RESET test is given below\n",
    "\n",
    "Step 1\n",
    "\n",
    "Estimate the model : $y=\\beta _{1}+\\beta _{2}x+...+\\beta _{k}x_{k}+\\varepsilon_1$ and\n",
    "obtain $\\widehat{y}$ and the restricted $SSR$\n",
    "\n",
    "Step 2\n",
    "\n",
    "Estimate the extended model  as follows:\n",
    "\n",
    "$y=\\beta _{0}+\\beta _{1}x+...+\\beta _{k}x_{k}+\\delta _{1}\\widehat{y}%\n",
    "^{2}+...+\\delta _{q}\\widehat{y}^{q}+\\varepsilon_2$ and obtain the Unrestrieted SSR\n",
    "\n",
    "Step 3\n",
    "\n",
    "In order to test \n",
    "\n",
    "$H_{0}:\\delta _{1}=...=\\delta _{q}=0$\n",
    "\n",
    "construct \n",
    "\n",
    "F test statistics as follows\n",
    "\n",
    "$F=\\frac{SSR_{r}-USSR/(q-1)}{SSR_{r}/(n-q-k)}\\sim F(q-1,n-q-k)$\n",
    "\n",
    "Higher values of F evidence agonist the null."
   ]
  },
  {
   "cell_type": "markdown",
   "metadata": {},
   "source": [
    "<a name=\"myfootnote1\">1</a>: The deviation form is easy to work with. It can be easily derived. Remeber the intercept can be defined as $\\beta_0=\\bar{y}-\\beta_1 \\bar{x}_1 $ given the regression $y_i=\\beta_0-\\beta_1x_{1i}+ \\varepsilon_i$. Now substituting the expression of  $\\beta_0$ and rearranging we get $(y_i-\\bar{y})=\\beta_1(x_{1i}-\\bar{x}_1)+ \\varepsilon_i$. This can be easily genaralised to a multiple regression model."
   ]
  },
  {
   "cell_type": "markdown",
   "metadata": {},
   "source": [
    "## Missing data and sample selection"
   ]
  },
  {
   "cell_type": "markdown",
   "metadata": {},
   "source": [
    "**when the data are missing completely at random**\n",
    "- Reduce sample size not any impact on the unbaiaed property\n",
    "\n",
    "**when the data are missing based on X**\n",
    "- Reduce sample size not any impact on the unbaiaed property\n",
    "\n",
    "**when the data are missing because of a selection process that is related to Y beyond depending on X**\n",
    " - this is known as sample selection bias\n",
    " Sample selection bias arises when a selection process influences the availability of data and that process is related to the dependent variable beyond depending on the regressors. Such sample selection induces correlation between one or\n",
    "more regressors and the error term, leading to bias and inconsistency of the OLS estimator.\n",
    "\n",
    "- The sample selection problem can be cast either as a consequence of nonrandom sampling or as a missing data problem\n",
    "\n",
    "**Example**\n",
    "Stock mutual funds are investment vehicles that hold a portfolio of stocks. By purchasing shares in a mutual fund, a small investor can hold a broadly diversified portfolio without the hassle and expense (transaction cost) of buying and selling\n",
    "shares in individual companies. Some mutual funds simply track the market (for example, by holding the stocks in the S&P 500), whereas others are actively managed by full-time professionals whose job is to make the fund earn a better return than the overall market—and competitors’ funds. But do these actively managed funds achieve this goal? Do some mutual funds consistently beat other funds and the market?\n",
    "\n",
    "One way to answer these questions is to compare future returns on mutual funds that had high returns over the past year to future returns on other funds and on the market as a whole. In making such comparisons, financial economists know that it is\n",
    "important to select the sample of mutual funds carefully. This task is not as straightforward as it seems, however. Some databases include historical data on funds currently available for purchase, but this approach means that the dogs—the most poorly performing funds—are omitted from the data set because they went out of business or were merged into other funds. For this reason, a study using data on historical performance of currently available funds is subject to sample selection bias: The sample is selected based on the value of the dependent variable, returns, because funds with the lowest returns are eliminated. The mean return of all funds (including the defunct) over a ten-year period will be less than the mean return of those funds still in existence at the end of those ten years, so a study of only the latter funds will overstate performance. Financial\n",
    "economists refer to this selection bias as survivorship bias because only the better funds survive to be in the data set.\n",
    "\n",
    "\n",
    "When financial econometricians correct for\n",
    "survivorship bias by incorporating data on defunct\n",
    "funds, the results do not paint a flattering portrait\n",
    "of mutual fund managers. Corrected for survivorship bias, the econometric evidence indicates that\n",
    "actively managed stock mutual funds do not outperform the market, on average, and that past good performance does not predict future good performance.\n",
    "For further reading on mutual funds and survivorship bias, see Malkiel (2016), Chapter 7, and Carhart\n",
    "(1997). The problem of survivorship bias also arises\n",
    "in evaluating hedge fund performance; for further\n",
    "reading, see Aggarwal and Jorion (2010)- Stock and Watson\n",
    "\n",
    "### Solution:\n",
    "- The best solution to sample selection bias is to avoid it by the design of your study. We already lookinto this issue while discussing RCT"
   ]
  },
  {
   "cell_type": "markdown",
   "metadata": {},
   "source": [
    "__Reference:__\n",
    "These notes are prepared as teaching notes: Do not quote. The reference will be updated later."
   ]
  },
  {
   "cell_type": "code",
   "execution_count": null,
   "metadata": {},
   "outputs": [],
   "source": []
  }
 ],
 "metadata": {
  "_draft": {
   "nbviewer_url": "https://gist.github.com/0541ed961e7190f52f02a45c2f1a3108"
  },
  "gist": {
   "data": {
    "description": "Note on Specification errors",
    "public": false
   },
   "id": "0541ed961e7190f52f02a45c2f1a3108"
  },
  "kernelspec": {
   "display_name": "R",
   "language": "R",
   "name": "ir"
  },
  "language_info": {
   "codemirror_mode": "r",
   "file_extension": ".r",
   "mimetype": "text/x-r-source",
   "name": "R",
   "pygments_lexer": "r",
   "version": "3.6.1"
  },
  "latex_envs": {
   "LaTeX_envs_menu_present": true,
   "autoclose": false,
   "autocomplete": true,
   "bibliofile": "biblio.bib",
   "cite_by": "apalike",
   "current_citInitial": 1,
   "eqLabelWithNumbers": true,
   "eqNumInitial": 1,
   "hotkeys": {
    "equation": "Ctrl-E",
    "itemize": "Ctrl-I"
   },
   "labels_anchors": false,
   "latex_user_defs": false,
   "report_style_numbering": false,
   "user_envs_cfg": false
  },
  "toc": {
   "base_numbering": 1,
   "nav_menu": {},
   "number_sections": true,
   "sideBar": true,
   "skip_h1_title": true,
   "title_cell": "Table of Contents",
   "title_sidebar": "Contents",
   "toc_cell": false,
   "toc_position": {},
   "toc_section_display": true,
   "toc_window_display": true
  }
 },
 "nbformat": 4,
 "nbformat_minor": 4
}
