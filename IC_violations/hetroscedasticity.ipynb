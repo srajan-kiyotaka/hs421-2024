{
 "cells": [
  {
   "cell_type": "markdown",
   "metadata": {},
   "source": [
    "# Hetroschedasticity: Consequences, detection and solutions"
   ]
  },
  {
   "cell_type": "markdown",
   "metadata": {},
   "source": [
    "By **homoskedasticity** we mean that the variance of the unobservable errorconditional on explanatory variables, is constant. Error variance may be heteroskedastic sometimes. The reason is that the variation in the dependent variable seldom remains constant when the level of one (or more) explanatory variable(s) increases or decreases. For example, not only is the level of consumption of the rich much higher than that of the poor, but it is also more varied. The poor have few options but to spend their income on the\n",
    "basic essentials of life; the rich enjoy the privilege of making choices. Similarly, there tends to be much less variation in output or expenditure levels among small enterprises than among large firms. The implication for  statistical analysis is that you will not be able to apply the egression\n",
    "model to the data straight away. Like non-linearity, heteroskedasticity is also often due to the skewness in the distribution of the variables under study. As a result, a suitable transformation can make the\n",
    "heteroskedasticity disappear while making the average relationship linear at the same time. In other words, the least squares estimators would be unbiased and consistent.However, the standard formulae for the standard errors will not be valid, since they are based on the assumption of homoskedasticity.\n",
    "\n",
    "## Consequences\n",
    "\n",
    "- OLS is still unbiased and consistent (unbiased is a small sample property i.e. for a given sample) Consistent is a large sample property.\n",
    "\n",
    "- $\\widehat{\\beta }$ is not efficient. i.e. $var(\\widehat{\\beta })$ is biased and inefficient\n",
    "\n",
    "- Biased \\ $var(\\widehat{\\beta })$ invalidates  the tests of significance"
   ]
  },
  {
   "cell_type": "markdown",
   "metadata": {},
   "source": [
    "We can easily verify that under homoskedasticity for a simple regression the variance of slope coefficient $var(\\widehat{\\beta })=\\frac{\\sigma ^{2}}{\\sum(x-\\bar{x})^2}.$"
   ]
  },
  {
   "cell_type": "markdown",
   "metadata": {},
   "source": [
    "If errors are heteroschedacitic we  can show that the estimator of the varioance of $\\hat{\\beta}$ i.e $\\frac{s ^{2}}{\\sum(x-\\bar{x})^2}$ understates the true variance and hence the t-statistic reported for$\\beta =0$ is overblown, and the confidence\n",
    "interval for $\\beta $ is tighter than it is supposed to be. This means that the t-statistic in this case is biased towards rejecting $H_{0}:\\beta =0$ i.e., showing significance of the regression slope coefficient, when it may\n",
    "not be significant.\n",
    "\n"
   ]
  },
  {
   "cell_type": "markdown",
   "metadata": {},
   "source": [
    "**Example**What are the factors that determine the abortion rate across the 50 states in the\n",
    "USA? (Gujarati)\n",
    "The variables used in the analysis are as follows:\n",
    "- _State_ = name of the state (50 US states).\n",
    "- _ABR_ = Abortion rate, number of abortions per thousand women aged 15–44 in\n",
    "1992.\n",
    "- _Relig_ion_ = the percent of a state’s population that is Catholic, Southern Baptist,Evangelical, or Mormon.\n",
    "- _Price_ = the average price charged in 1993 in non-hospital facilities for an abortion at 10 weeks with local anesthesia (weighted by the number of abortions performed in 1992).\n",
    "- _Laws_ = a variable that takes the value of 1 if a state enforces a law that restricts a minor’s access to abortion, 0 otherwise.\n",
    "- _Funds_ = a variable that takes the value of 1 if state funds are available for use to pay for an abortion under most circumstances, 0 otherwise.\n",
    "- _Educ_ = the percent of a state’s population that is 25 years or older with a high school degree (or equivalent), 1990.\n",
    "- _Income_ = disposable income per capita, 1992.\n",
    "- _Picket_ = the percentage of respondents that reported experiencing picketing with physical contact or blocking of patients.\n",
    "\n",
    "**Model**\n",
    "$$ABR_i= \\beta_0+ \\beta_1 Price_i+ \\beta_2Laws_i+ \\beta_3 Funds_i+\\beta_4Educ_i+ \\beta_5Rel_i +\\beta_6Income_i+ \\beta_7 Picket_i+ \\varepsilon_i$$\n",
    "i= 1,...50\n",
    "\n",
    "A priori, we would expect ABR to be negatively related to religion, price, laws,picket, education, and positively related to fund and income. We assume the error term satisfies the IC assumptions."
   ]
  },
  {
   "cell_type": "code",
   "execution_count": 49,
   "metadata": {},
   "outputs": [],
   "source": [
    "data <- read.csv(\"Hetro.csv\",header=T)"
   ]
  },
  {
   "cell_type": "code",
   "execution_count": 3,
   "metadata": {
    "scrolled": true
   },
   "outputs": [
    {
     "data": {
      "text/html": [
       "<table>\n",
       "<caption>A data.frame: 6 × 10</caption>\n",
       "<thead>\n",
       "\t<tr><th></th><th scope=col>state</th><th scope=col>abortion</th><th scope=col>religion</th><th scope=col>price</th><th scope=col>laws</th><th scope=col>funds</th><th scope=col>educ</th><th scope=col>income</th><th scope=col>picket</th><th scope=col>lnabortion</th></tr>\n",
       "\t<tr><th></th><th scope=col>&lt;chr&gt;</th><th scope=col>&lt;dbl&gt;</th><th scope=col>&lt;dbl&gt;</th><th scope=col>&lt;int&gt;</th><th scope=col>&lt;int&gt;</th><th scope=col>&lt;int&gt;</th><th scope=col>&lt;dbl&gt;</th><th scope=col>&lt;int&gt;</th><th scope=col>&lt;int&gt;</th><th scope=col>&lt;dbl&gt;</th></tr>\n",
       "</thead>\n",
       "<tbody>\n",
       "\t<tr><th scope=row>1</th><td>MISSISSIPPI  </td><td>12.4</td><td>38.0</td><td>256</td><td>0</td><td>0</td><td>64.3</td><td>14082</td><td>100</td><td>2.517696</td></tr>\n",
       "\t<tr><th scope=row>2</th><td>NEW_MEXICO   </td><td>17.7</td><td>44.7</td><td>332</td><td>0</td><td>0</td><td>75.1</td><td>15458</td><td> 20</td><td>2.873565</td></tr>\n",
       "\t<tr><th scope=row>3</th><td>UTAH         </td><td> 9.3</td><td>76.7</td><td>298</td><td>1</td><td>0</td><td>85.1</td><td>15573</td><td>  0</td><td>2.230014</td></tr>\n",
       "\t<tr><th scope=row>4</th><td>WEST_VIRGINIA</td><td> 7.7</td><td> 9.8</td><td>251</td><td>0</td><td>1</td><td>66.0</td><td>15598</td><td> 50</td><td>2.041220</td></tr>\n",
       "\t<tr><th scope=row>5</th><td>ARKANSAS     </td><td>13.5</td><td>30.0</td><td>248</td><td>1</td><td>0</td><td>66.3</td><td>15635</td><td> 33</td><td>2.602690</td></tr>\n",
       "\t<tr><th scope=row>6</th><td>LOUISIANA    </td><td>13.4</td><td>50.9</td><td>228</td><td>1</td><td>0</td><td>68.3</td><td>15931</td><td> 60</td><td>2.595255</td></tr>\n",
       "</tbody>\n",
       "</table>\n"
      ],
      "text/latex": [
       "A data.frame: 6 × 10\n",
       "\\begin{tabular}{r|llllllllll}\n",
       "  & state & abortion & religion & price & laws & funds & educ & income & picket & lnabortion\\\\\n",
       "  & <chr> & <dbl> & <dbl> & <int> & <int> & <int> & <dbl> & <int> & <int> & <dbl>\\\\\n",
       "\\hline\n",
       "\t1 & MISSISSIPPI   & 12.4 & 38.0 & 256 & 0 & 0 & 64.3 & 14082 & 100 & 2.517696\\\\\n",
       "\t2 & NEW\\_MEXICO    & 17.7 & 44.7 & 332 & 0 & 0 & 75.1 & 15458 &  20 & 2.873565\\\\\n",
       "\t3 & UTAH          &  9.3 & 76.7 & 298 & 1 & 0 & 85.1 & 15573 &   0 & 2.230014\\\\\n",
       "\t4 & WEST\\_VIRGINIA &  7.7 &  9.8 & 251 & 0 & 1 & 66.0 & 15598 &  50 & 2.041220\\\\\n",
       "\t5 & ARKANSAS      & 13.5 & 30.0 & 248 & 1 & 0 & 66.3 & 15635 &  33 & 2.602690\\\\\n",
       "\t6 & LOUISIANA     & 13.4 & 50.9 & 228 & 1 & 0 & 68.3 & 15931 &  60 & 2.595255\\\\\n",
       "\\end{tabular}\n"
      ],
      "text/markdown": [
       "\n",
       "A data.frame: 6 × 10\n",
       "\n",
       "| <!--/--> | state &lt;chr&gt; | abortion &lt;dbl&gt; | religion &lt;dbl&gt; | price &lt;int&gt; | laws &lt;int&gt; | funds &lt;int&gt; | educ &lt;dbl&gt; | income &lt;int&gt; | picket &lt;int&gt; | lnabortion &lt;dbl&gt; |\n",
       "|---|---|---|---|---|---|---|---|---|---|---|\n",
       "| 1 | MISSISSIPPI   | 12.4 | 38.0 | 256 | 0 | 0 | 64.3 | 14082 | 100 | 2.517696 |\n",
       "| 2 | NEW_MEXICO    | 17.7 | 44.7 | 332 | 0 | 0 | 75.1 | 15458 |  20 | 2.873565 |\n",
       "| 3 | UTAH          |  9.3 | 76.7 | 298 | 1 | 0 | 85.1 | 15573 |   0 | 2.230014 |\n",
       "| 4 | WEST_VIRGINIA |  7.7 |  9.8 | 251 | 0 | 1 | 66.0 | 15598 |  50 | 2.041220 |\n",
       "| 5 | ARKANSAS      | 13.5 | 30.0 | 248 | 1 | 0 | 66.3 | 15635 |  33 | 2.602690 |\n",
       "| 6 | LOUISIANA     | 13.4 | 50.9 | 228 | 1 | 0 | 68.3 | 15931 |  60 | 2.595255 |\n",
       "\n"
      ],
      "text/plain": [
       "  state         abortion religion price laws funds educ income picket\n",
       "1 MISSISSIPPI   12.4     38.0     256   0    0     64.3 14082  100   \n",
       "2 NEW_MEXICO    17.7     44.7     332   0    0     75.1 15458   20   \n",
       "3 UTAH           9.3     76.7     298   1    0     85.1 15573    0   \n",
       "4 WEST_VIRGINIA  7.7      9.8     251   0    1     66.0 15598   50   \n",
       "5 ARKANSAS      13.5     30.0     248   1    0     66.3 15635   33   \n",
       "6 LOUISIANA     13.4     50.9     228   1    0     68.3 15931   60   \n",
       "  lnabortion\n",
       "1 2.517696  \n",
       "2 2.873565  \n",
       "3 2.230014  \n",
       "4 2.041220  \n",
       "5 2.602690  \n",
       "6 2.595255  "
      ]
     },
     "metadata": {},
     "output_type": "display_data"
    }
   ],
   "source": [
    "head(data)"
   ]
  },
  {
   "cell_type": "code",
   "execution_count": 7,
   "metadata": {
    "scrolled": true
   },
   "outputs": [
    {
     "data": {
      "text/plain": [
       "\n",
       "Call:\n",
       "lm(formula = abortion ~ price + laws + funds + educ + religion + \n",
       "    income + picket, data = data)\n",
       "\n",
       "Residuals:\n",
       "     Min       1Q   Median       3Q      Max \n",
       "-11.6110  -4.6493  -0.6696   4.5253  15.9514 \n",
       "\n",
       "Coefficients:\n",
       "              Estimate Std. Error t value Pr(>|t|)    \n",
       "(Intercept) 14.2839573 15.0776294   0.947   0.3489    \n",
       "price       -0.0423631  0.0222232  -1.906   0.0635 .  \n",
       "laws        -0.8731018  2.3765662  -0.367   0.7152    \n",
       "funds        2.8200030  2.7834747   1.013   0.3168    \n",
       "educ        -0.2872551  0.1995545  -1.439   0.1574    \n",
       "religion     0.0200709  0.0863805   0.232   0.8174    \n",
       "income       0.0024007  0.0004552   5.274 4.35e-06 ***\n",
       "picket      -0.1168712  0.0421799  -2.771   0.0083 ** \n",
       "---\n",
       "Signif. codes:  0 '***' 0.001 '**' 0.01 '*' 0.05 '.' 0.1 ' ' 1\n",
       "\n",
       "Residual standard error: 7.063 on 42 degrees of freedom\n",
       "Multiple R-squared:  0.5774,\tAdjusted R-squared:  0.507 \n",
       "F-statistic: 8.199 on 7 and 42 DF,  p-value: 2.847e-06\n"
      ]
     },
     "metadata": {},
     "output_type": "display_data"
    }
   ],
   "source": [
    "mod1 <- lm(abortion~price+laws+funds+educ+religion+income+picket,data=data)\n",
    "summary(mod1)"
   ]
  },
  {
   "cell_type": "markdown",
   "metadata": {},
   "source": [
    "## Detection of Heteroskedasticity\n",
    "We may informally check the presence of heteroskedastic error by plotting the squares of errors($e_{i}^{2}$ ) and the variables suspected to causing the problem"
   ]
  },
  {
   "cell_type": "code",
   "execution_count": 10,
   "metadata": {},
   "outputs": [
    {
     "data": {
      "image/png": "[encoded data removed]",
      "text/plain": [
       "Plot with title \"Histogram of resid1^2\""
      ]
     },
     "metadata": {
      "image/png": {
       "height": 420,
       "width": 420
      }
     },
     "output_type": "display_data"
    }
   ],
   "source": [
    "resid1 <-resid(mod1)\n",
    "hist(resid1^2)"
   ]
  },
  {
   "cell_type": "code",
   "execution_count": 12,
   "metadata": {},
   "outputs": [
    {
     "data": {
      "image/png": "[encoded data removed]",
      "text/plain": [
       "plot without title"
      ]
     },
     "metadata": {
      "image/png": {
       "height": 420,
       "width": 420
      }
     },
     "output_type": "display_data"
    }
   ],
   "source": [
    "plot((resid1^2)~fitted(mod1))"
   ]
  },
  {
   "cell_type": "markdown",
   "metadata": {},
   "source": [
    "### Formal tests\n",
    "\n",
    "There are a number of tests to detect heteroskedasticity. Most of the test\n",
    "are based on regression of $e_{i}^{2}$ and $\\left\\vert e_{i}\\right\\vert $ on $z_{i}.$ Where $z_{i}$ is an unknown \n",
    "variable and areusually proxied by explanatory variables ($x_{i},x_{i}^{2},x_{i}^{3},%\n",
    "\\widehat{y}^{2}...etc).$ \\ The implicit assumption behind all these test is\n",
    "that \\ $var(\\varepsilon_{i})=\\sigma _{i}$ , and we can express this as function of\n",
    "some unknown variable say $z_{i}$ (often proxied by some or all explanatory\n",
    "variables in the model). Holding all other  assumptions under IC valid we\n",
    "have $var(\\varepsilon_{i})=E(\\varepsilon_{i}^{2})=\\sigma _{i}.$Hence a violation of\n",
    "homoskedasticity can be tested by testing whether $\\varepsilon^{2}$ is related some\n",
    "unknown variables that cause the heteroskedasticity in our model. Various test are vailable in the literature. Some of them are given below."
   ]
  },
  {
   "cell_type": "markdown",
   "metadata": {},
   "source": [
    "#### Breusch and Pagan Test\n",
    "\n",
    "Given the following model:\n",
    "\n",
    "$\\ddot{y}=\\beta _{1}\\ddot{x}_{1}+\\beta \\ddot{x}_{2}+...+\\beta _{k}\\ddot{x}_{k}+\\varepsilon$ (variables are in\n",
    "deviation form)\n",
    "\n",
    "Breusch and Pagan Test  test the null hypothesis of homoskedasticity i.e. $%\n",
    "H_{0}:var(\\varepsilon)=E(\\varepsilon^{2})=\\sigma ^{2}$\n",
    "\n",
    "This is done by estimating\n",
    "\n",
    "$e^{2}=\\delta _{1}\\ddot{x}_{1}+\\delta _{2}\\ddot{x}_{2}+...+\\delta _{k}\\ddot{x}_{k}+v$\n",
    "where is is the estimated value of $\\varepsilon$\n",
    "\n",
    "Then the null of homoskedasticity can be stated as follows\n",
    "\n",
    "$H_{0}:\\delta _{1}=\\delta _{2}=...=\\delta _{k}=0$\n",
    "\n",
    "Now we can easily test the overall significance of the explanatory variables\n",
    "in explaining $e^{2}$ using LM test or F test .\n",
    "\n",
    "The LM statitics for heteroskedasticity can be calculated as follows\n",
    "\n",
    "$LM=nR_{e}^{2}.$\n",
    "\n",
    "LM follows a $\\chi ^{2}$ distribution with k degrees of freedom . Where $%\n",
    "R_{e}^{2}$ is the $R^{2}$ from the equation given above.\n",
    "\n",
    "Remember the an F statistics can be computed using the $R_{e}^{2}$as follows\n",
    "\n",
    "$F=\\frac{R_{e}^{2}/k}{(1-R_{e}^{2})/(n-k)}$ $\\ $\\ where k is number\n",
    "parameters, n is numbers of observations and the F statistics follows a  F\n",
    "distribution with k and n-k d.f under the null\n",
    "\n",
    "(Decision rule smaller p values reject the null of homoskedasticity)"
   ]
  },
  {
   "cell_type": "code",
   "execution_count": 21,
   "metadata": {},
   "outputs": [
    {
     "data": {
      "text/plain": [
       "\n",
       "\tstudentized Breusch-Pagan test\n",
       "\n",
       "data:  mod1\n",
       "BP = 16.001, df = 7, p-value = 0.02511\n"
      ]
     },
     "metadata": {},
     "output_type": "display_data"
    }
   ],
   "source": [
    "library(lmtest)\n",
    "bptest(mod1)\n"
   ]
  },
  {
   "cell_type": "markdown",
   "metadata": {},
   "source": [
    "#### The White Test\n",
    "\n",
    "Similar to BP test the White test replaces the homoskedasticity assumptionby its weaker version where $\\varepsilon^{2}$ is assumed to be uncorrelated with all the independent variables, square of independent variables and the cross products of independent variables. For instance consider a 3 explanatory variable model the White test is then based on the estimation of following model\n",
    "\n",
    "$e^{2}=\\delta _{1}\\ddot{x}_{1}+\\delta _{2}\\ddot{x}_{2}+\\delta _{3}\\ddot{x}_{{3}%\n",
    "}+\\delta _{4}\\ddot{x}_{1}^{2}+\\delta _{5}\\ddot{x}_{2}^{2}+\\delta _{6}\\ddot{x}_{{3}%\n",
    "}^{2}+\\delta _{7}\\ddot{x}_{1}\\ddot{x}_{2}+\\delta _{8}\\ddot{x}_{2}\\ddot{x}_{3}+\\delta _{9}\\dot{x}_{1}\\ddot{x}_{{3}%\n",
    "}+v$"
   ]
  },
  {
   "cell_type": "markdown",
   "metadata": {},
   "source": [
    "The White is test is to test the null where all $\\delta _{i}=0$ for i\n",
    "=1,2,..,9 using LM or F statistics.\n",
    "\n",
    "alternatively we can replace the above equation with the following equation\n",
    "\n",
    "$e^{2}=\\delta _{1}\\widehat{\\ddot{y}}+\\delta _{2}\\widehat{\\ddot{y}}^{2}+v$\n",
    "\n",
    "then use LM or F statistics for the null $\\delta _{1}$=0, $\\delta _{2}=0$\n"
   ]
  },
  {
   "cell_type": "code",
   "execution_count": 46,
   "metadata": {},
   "outputs": [
    {
     "data": {
      "text/plain": [
       "\n",
       "Call:\n",
       "lm(formula = resid1^2 ~ fitted(mod1) + fitted(mod1)^2)\n",
       "\n",
       "Residuals:\n",
       "   Min     1Q Median     3Q    Max \n",
       "-68.19 -36.32 -10.73  19.16 182.43 \n",
       "\n",
       "Coefficients:\n",
       "             Estimate Std. Error t value Pr(>|t|)   \n",
       "(Intercept)   -23.542     21.771  -1.081  0.28495   \n",
       "fitted(mod1)    3.180      0.993   3.203  0.00242 **\n",
       "---\n",
       "Signif. codes:  0 '***' 0.001 '**' 0.01 '*' 0.05 '.' 0.1 ' ' 1\n",
       "\n",
       "Residual standard error: 53.13 on 48 degrees of freedom\n",
       "Multiple R-squared:  0.1761,\tAdjusted R-squared:  0.1589 \n",
       "F-statistic: 10.26 on 1 and 48 DF,  p-value: 0.002419\n"
      ]
     },
     "metadata": {},
     "output_type": "display_data"
    }
   ],
   "source": [
    "mod2 <- lm(resid1^2~fitted(mod1)+fitted(mod1)^2)\n",
    "summary(mod2)"
   ]
  },
  {
   "cell_type": "markdown",
   "metadata": {},
   "source": [
    "## Solutions to The heteroskedasticity"
   ]
  },
  {
   "cell_type": "markdown",
   "metadata": {},
   "source": [
    "There are mainly two types of solutions : General solutions and  solutions dependent on particular assumptions about $\\sigma _{i}^{2}$. Let us consider some general solutions. They are\n",
    "\n",
    "- Transforming the data to logs\n",
    "- use heteroskedasticity robust standard error\n",
    "\n",
    "we have already seen that under heteroskedasticity the OLS estimators are\n",
    "unbiased but inefficient, and the standard error are also biased. In such\n",
    "cases we can use the  heteroskedasticity consistant variance of the OLS\n",
    "estimators. For example for a simple regression the hetroschedastity consisistant std error can be calsuated as follows $\\hat{V}(\\hat{\\beta}_{j})=\\frac{\\sum v_{ij}^{2} {e}_{i}^{2}}{RSS_{j}},$ where $v_{ij}$ i residual from the auxiliary regression of $x_{j}$\n",
    "on all other independent variables. And $RSS_{j}$ is the residual sum of\n",
    "squares from the same auxiliary regression. The square root of the above\n",
    "equation is known as heteroskedasticity -robust standard errors or White\n",
    "Huber Eicker standard error.\n",
    "\n"
   ]
  },
  {
   "cell_type": "code",
   "execution_count": 48,
   "metadata": {},
   "outputs": [
    {
     "name": "stderr",
     "output_type": "stream",
     "text": [
      "Loading required package: carData\n",
      "\n"
     ]
    },
    {
     "data": {
      "text/plain": [
       "\n",
       "t test of coefficients:\n",
       "\n",
       "               Estimate  Std. Error t value  Pr(>|t|)    \n",
       "(Intercept) 14.28395728 14.90146001  0.9586  0.343266    \n",
       "price       -0.04236311  0.02594399 -1.6329  0.109973    \n",
       "laws        -0.87310179  1.79584917 -0.4862  0.629368    \n",
       "funds        2.82000302  3.08857928  0.9130  0.366432    \n",
       "educ        -0.28725512  0.17662801 -1.6263  0.111361    \n",
       "religion     0.02007090  0.08386115  0.2393  0.812010    \n",
       "income       0.00240068  0.00051019  4.7055 2.753e-05 ***\n",
       "picket      -0.11687121  0.04042007 -2.8914  0.006049 ** \n",
       "---\n",
       "Signif. codes:  0 '***' 0.001 '**' 0.01 '*' 0.05 '.' 0.1 ' ' 1\n"
      ]
     },
     "metadata": {},
     "output_type": "display_data"
    }
   ],
   "source": [
    "library(\"car\")\n",
    "cov1 <- hccm(mod1, type=\"hc1\") #needs package 'car'\n",
    "mod3 <- coeftest(mod1, vcov.=cov1)\n",
    "mod3"
   ]
  },
  {
   "cell_type": "code",
   "execution_count": null,
   "metadata": {},
   "outputs": [],
   "source": []
  }
 ],
 "metadata": {
  "_draft": {
   "nbviewer_url": "https://gist.github.com/fc6e88eaf7b79056e152947f25905a48"
  },
  "gist": {
   "data": {
    "description": "OneDrive/HS421/Notes/Untitled1.ipynb",
    "public": false
   },
   "id": "fc6e88eaf7b79056e152947f25905a48"
  },
  "kernelspec": {
   "display_name": "R 4.2.2",
   "language": "R",
   "name": "ir42"
  },
  "language_info": {
   "codemirror_mode": "r",
   "file_extension": ".r",
   "mimetype": "text/x-r-source",
   "name": "R",
   "pygments_lexer": "r",
   "version": "4.2.2"
  },
  "latex_envs": {
   "LaTeX_envs_menu_present": true,
   "autoclose": false,
   "autocomplete": true,
   "bibliofile": "biblio.bib",
   "cite_by": "apalike",
   "current_citInitial": 1,
   "eqLabelWithNumbers": true,
   "eqNumInitial": 1,
   "hotkeys": {
    "equation": "Ctrl-E",
    "itemize": "Ctrl-I"
   },
   "labels_anchors": false,
   "latex_user_defs": false,
   "report_style_numbering": false,
   "user_envs_cfg": false
  },
  "toc": {
   "base_numbering": 1,
   "nav_menu": {},
   "number_sections": true,
   "sideBar": true,
   "skip_h1_title": true,
   "title_cell": "Table of Contents",
   "title_sidebar": "Contents",
   "toc_cell": false,
   "toc_position": {
    "height": "calc(100% - 180px)",
    "left": "10px",
    "top": "150px",
    "width": "165px"
   },
   "toc_section_display": true,
   "toc_window_display": true
  }
 },
 "nbformat": 4,
 "nbformat_minor": 4
}
