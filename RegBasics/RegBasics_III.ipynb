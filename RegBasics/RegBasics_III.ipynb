{
 "cells": [
  {
   "cell_type": "markdown",
   "metadata": {
    "slideshow": {
     "slide_type": "slide"
    },
    "tags": []
   },
   "source": [
    "# Regression Basics III\n",
    "Lecture notes by\n",
    "_Sunil Paul_\n",
    "\n",
    "- The materials in this notebook is mostly prepared using “Diebold, F.X. (2019), Econometric Data Science: A Predictive Modeling Approach, Department of Economics, University of Pennsylvania,\n",
    "http://www.ssc.upenn.edu/~fdiebold/Textbooks.html.”- \n",
    "\n"
   ]
  },
  {
   "cell_type": "markdown",
   "metadata": {},
   "source": [
    "## Regression in practice\n",
    "In this section we will see some examples of regression in practice\n",
    "### Wage equation: Estimation and hypothesis testing\n",
    " \n",
    " Q: How does education and experience affect wages?\n",
    " See pp 42-55 for a detailed discussion\n",
    "\n",
    "In the first example we regress  log of wage (LWAGE) on equation as years\n",
    "of schooling (EDUC) and experienc (EXPER) using a total of 1323 observations. Our interest is to examine the role of education and experience on wages."
   ]
  },
  {
   "cell_type": "code",
   "execution_count": 4,
   "metadata": {
    "scrolled": true,
    "slideshow": {
     "slide_type": "slide"
    }
   },
   "outputs": [
    {
     "data": {
      "text/plain": [
       "\n",
       "Call:\n",
       "lm(formula = LNWAGE ~ EDUC + EXPER, data = wage95)\n",
       "\n",
       "Residuals:\n",
       "     Min       1Q   Median       3Q      Max \n",
       "-1.96035 -0.32125  0.00331  0.33805  1.64061 \n",
       "\n",
       "Coefficients:\n",
       "            Estimate Std. Error t value Pr(>|t|)    \n",
       "(Intercept) 0.867382   0.075331   11.51   <2e-16 ***\n",
       "EDUC        0.093229   0.005045   18.48   <2e-16 ***\n",
       "EXPER       0.013104   0.001164   11.26   <2e-16 ***\n",
       "---\n",
       "Signif. codes:  0 '***' 0.001 '**' 0.01 '*' 0.05 '.' 0.1 ' ' 1\n",
       "\n",
       "Residual standard error: 0.4923 on 1320 degrees of freedom\n",
       "Multiple R-squared:  0.2322,\tAdjusted R-squared:  0.2311 \n",
       "F-statistic: 199.6 on 2 and 1320 DF,  p-value: < 2.2e-16\n"
      ]
     },
     "metadata": {},
     "output_type": "display_data"
    }
   ],
   "source": [
    "### we take the data on wages , experience and eduction for our excample\n",
    "wage95 <- read.csv(\"DataWages.csv\", header=TRUE)\n",
    "wages <- wage95$WAGE\n",
    "lnwages <- wage95$LNWAGE\n",
    "edu <- wage95$EDUC\n",
    "exper <- wage95$EXPER\n",
    "\n",
    "reg1 <- lm(LNWAGE~EDUC + EXPER,data=wage95)\n",
    "summary(reg1)"
   ]
  },
  {
   "cell_type": "markdown",
   "metadata": {},
   "source": [
    "The results above gives the estimates of coeffficients, standard errors, t statistics and the associated P values.\n",
    "F statistics to test the joint significance are also given. ( I have explained this in the class in detail)"
   ]
  },
  {
   "cell_type": "markdown",
   "metadata": {},
   "source": [
    "## Some useful results\n",
    "- Optimized value of the LS objective\n",
    "\n",
    "$$SSR=\\sum_{i=1}^N e_i^2=\\sum_{i=1}^N (y_i-\\hat{y}_i)^2$$\n",
    "\n",
    "Sum of squred Explained(regression)\n",
    "$$SSE=\\sum_{i=1}^N (\\hat{y}_i-\\bar{y})^2$$\n",
    "Sum of squred Total\n",
    "$$SST=\\sum_{i=1}^N ({y}_i-\\bar{y})^2$$"
   ]
  },
  {
   "cell_type": "code",
   "execution_count": 5,
   "metadata": {},
   "outputs": [
    {
     "data": {
      "text/html": [
       "319.937623565102"
      ],
      "text/latex": [
       "319.937623565102"
      ],
      "text/markdown": [
       "319.937623565102"
      ],
      "text/plain": [
       "[1] 319.9376"
      ]
     },
     "metadata": {},
     "output_type": "display_data"
    }
   ],
   "source": [
    "#SSR\n",
    "deviance(reg1)"
   ]
  },
  {
   "cell_type": "markdown",
   "metadata": {},
   "source": [
    "#### Std error of the regression\n",
    " - variance of of the prediction error $\\varepsilon = \\sigma^2$\n",
    " - Let $s^2$be anestimate of $\\sigma^2$ and is given by $$s^2=\\frac{\\sum_{i=1}^N e_i^2}{N-K}$$\n",
    " - Std error of regression is $$\\sqrt{s^2}$$"
   ]
  },
  {
   "cell_type": "markdown",
   "metadata": {},
   "source": [
    "### Goodness of fit\n",
    "- $R^2$ is a measure of in sample predictability(goodness of fit) \n",
    "- it is the percent of the variance of y explained by the variables included in the regression\n"
   ]
  },
  {
   "cell_type": "markdown",
   "metadata": {},
   "source": [
    "$$R^2=1-\\frac{\\frac{1}{N}\\sum_{i=1}^N e^2_i}{\\frac{1}{N}\\sum_{i=1}^N (y_i-\\bar{y})}$$\n",
    "$$\\bar{R}^2=1-\\frac{\\frac{1}{N-K}\\sum_{i=1}^N e^2_i}{\\frac{1}{N-1}\\sum_{i=1}^N (y_i-\\bar{y})}$$"
   ]
  },
  {
   "cell_type": "markdown",
   "metadata": {},
   "source": [
    "- $R^2$ and $\\bar{R}^2$ effectively compare the in-sample accuracy of conditional-mean and unconditional-mean forecasts.\n",
    "- Both measures have  has MSE as numerator\n",
    "- $R^2 =0.232$ and  Adjusted $R^2= 0.231$\n",
    "Alternately we have \n",
    "$$R_2=\\frac{SSE}{SST}=1-\\frac{SSR}{SST}$$( see the definitions above)"
   ]
  },
  {
   "cell_type": "markdown",
   "metadata": {},
   "source": [
    "## y vs $\\hat{y}$\n",
    "- A perfect fit $(R^2 = 1)$ corresponds to all points on the 45 degree line and no fit $(R^2 = 0)$ corresponds to all points on a vertical line corresponding to $y = \\bar{y}$"
   ]
  },
  {
   "cell_type": "code",
   "execution_count": 40,
   "metadata": {
    "scrolled": true
   },
   "outputs": [],
   "source": [
    "library(ggplot2)\n",
    "fit1 <- fitted.values(reg1)# fitted values"
   ]
  },
  {
   "cell_type": "code",
   "execution_count": 41,
   "metadata": {
    "scrolled": true
   },
   "outputs": [
    {
     "data": {
      "image/png": "[encoded data removed]",
      "text/plain": [
       "plot without title"
      ]
     },
     "metadata": {
      "image/png": {
       "height": 420,
       "width": 420
      },
      "text/plain": {
       "height": 420,
       "width": 420
      }
     },
     "output_type": "display_data"
    }
   ],
   "source": [
    "ggplot()+ geom_point(aes(y=lnwages,x=fit1))+xlab(\"Fiited Values\") +\n",
    "  ylab(\"log(wages)\") "
   ]
  },
  {
   "cell_type": "code",
   "execution_count": null,
   "metadata": {},
   "outputs": [],
   "source": [
    "## Residual plot"
   ]
  },
  {
   "cell_type": "code",
   "execution_count": 36,
   "metadata": {},
   "outputs": [
    {
     "data": {
      "image/png": "[encoded data removed]",
      "text/plain": [
       "plot without title"
      ]
     },
     "metadata": {
      "image/png": {
       "height": 420,
       "width": 420
      },
      "text/plain": {
       "height": 420,
       "width": 420
      }
     },
     "output_type": "display_data"
    }
   ],
   "source": [
    "resi_reg1 <- resid(reg1)#residuals\n",
    "library(reshape2)\n",
    "x <- 1: length(lnwages)\n",
    "df_plot <-data.frame(x=x,Residual=resi_reg1,Actual=lnwages, Fitted=fit1)\n",
    "data_long <- melt(df_plot,id=\"x\")\n",
    "ggplot(data_long,aes(x=x,y=value,color=variable))+geom_line()"
   ]
  },
  {
   "cell_type": "markdown",
   "metadata": {},
   "source": [
    "### Example 2: Capital Asset Pricing Model (Adapted from Asteriou and Hall(2021))\n",
    "- A known theory from financial economics-introduced first by Treynor (1961, 1962) and Sharpe (1966).\n",
    "- The model is used to determine the appropriate required rate of return of a stock if that stock is intended to be added to an already well-diversified portfolio.\n",
    "How do we test its empirical validity?\n",
    "CAPM can be expressed as follows:\n",
    "$$r_{it}-r_{ft}=\\beta_i(r_{mt}-r_{ft})+\\varepsilon_{it}$$\n",
    "where $r_{it}$ represents the returns on stock $i$, $r_{mt}$ represents the return on the market\n",
    "portfolio, and $r_{ft}$ is the risk-free rate at time period $t$.$\\beta_i$ is the beta of stock $i$ and $\\varepsilon_{it}$ is the random component of the excess returns.\\\\\n",
    "\n",
    "The model decomposes excess return on stock $i$ into a systematic (marketrelated) part, $\\beta_i(r_{mt}−r_{f t})$, and a non-systematic part, $\\varepsilon_{it}$\n",
    "_Testable questions_\n",
    "\n",
    "- Is there a linear relationship between excess returns and systematic risk?\n",
    "- Is market risk – as measured by β – the only relevant measure of risk?\n",
    "- Are excess returns and market risk positively related?\n",
    "\n",
    "__*Empirical stratergy*__\n",
    "\n",
    "In the first stage, the betas are estimated from a series of time series regressions (we need to estimate a regression for every stock) by regressing past asset returns on past market returns, typically using five years of monthly data. (Obviously longer periods and other frequencies could be used in order to assess the validity of the model in a better way.) The beta is found by the following regression:\n",
    "\n",
    "$$r_{it}=\\alpha_i+\\beta_ir_{mt}-+\\varepsilon_{it}$$\n",
    "his regression model is a slight modification of previous equation  in the sense that it\n",
    "excludes the risk-free rate of return from both sides of the equation. Results from both these specification should yield similar results for the estimates of $\\beta_i$ under the assumption that the CAPM is true and the risk-free asset return does not vary over time.\n",
    "\n",
    "In the second stage of the two-stage regression method, formal testing of the CAPM is based on a cross-sectional regression, using estimated betas and returns from a cross-section of firms at a given time. These CAPM tests typically use the following formulation. Using the average return as the dependent variable and the estimated betas ($\\beta_i$s)  as the independent variables, we have the following equation, which is the empirical Security Market Line (SML):\n",
    "$$\\bar{r}_{i}=\\gamma_0+\\gamma_2 \\hat{\\beta}_i+e_i;i=1,2,..n$$\n",
    "\n",
    "The following testable implications can be extracted from this equation Equation\n",
    "- The intercept ($\\gamma_0$) should be equal to zero (i.e. statistically insignificant).\n",
    "- The slope of the $\\beta_i$ variable should be equal to the realized market excess return $(r_{mt} − r_{ft})$.\n",
    "\n",
    "(An assignment will be given based on this example)\n"
   ]
  },
  {
   "cell_type": "markdown",
   "metadata": {},
   "source": [
    "## OLS vs ML estimation\n",
    "- Under ideal conditions OLS is equivalent to ML\n",
    "- Maximum-likelihood estimation : find the parameter configuration that maximizes the likelihood of getting the $y_i$’s that you actually did get.\n",
    "- Linear regression (DGP) under IC implies that:\n",
    "$$Y_i|X_i \\sim iidN(X^{\\prime}, \\sigma^2)$$\n",
    "thus the conditional density function can be written as:\n",
    "$$f(Y_i|X_i)=(2\\pi\\sigma^2)^{\\frac{-1}{2}}e^{\\frac{-1}{2\\sigma^2}(Y_i-X^{\\prime}\\beta)^2}$$"
   ]
  },
  {
   "cell_type": "markdown",
   "metadata": {},
   "source": [
    "\n",
    "Now by independence of the $\\varepsilon_i$'s and hence $Y_i$’s,\n",
    "$$L=f(y_1,...,y_N|X_i)=f(Y_1|X_1)...f(Y_N|X_N)=\\prod_{i=1}^{N}(2\\pi\\sigma^2)^{\\frac{-1}{2}}e^{\\frac{-1}{2\\sigma^2}(Y_i-X^{\\prime}\\beta)^2}$$ and  Log turns the product into a sum and eliminates the exponential.\n",
    "$$ln(L)=ln\\big((2\\pi\\sigma^2)^{\\frac{-N}{2}}\\big)-\\frac{1}{2\\sigma^2}\\sum^N_{i=1}(Y_i-X^{\\prime}\\beta)^2$$\n",
    "$$=\\frac{-N}{2}ln(2\\pi)-\\frac{N}{2}ln(\\sigma^2)-\\frac{1}{2\\sigma^2}\\sum^N_{i=1}(Y_i-X^{\\prime}\\beta)^2$$\n",
    "Note in particular that the $\\beta$ vector that maximizes the likelihood (or log likelihood { the optimizers must be identical because the log is a positive monotonic transformation) is the $\\beta$vector that minimizes the sum of squared residuals\n",
    "\"MLE and OLS coincide for linear regression under the IC\" (Normality assumption under IC, in particular, is crucial).\n",
    "The codes to estimate the coefficients using ML is given below:"
   ]
  },
  {
   "cell_type": "code",
   "execution_count": 7,
   "metadata": {},
   "outputs": [],
   "source": [
    "# prepare data  matrix for ML estimation\n",
    "x <- cbind(1,edu,exper)\n",
    "y <- as.matrix(lnwages)\n",
    "ones <- x[,1]"
   ]
  },
  {
   "cell_type": "code",
   "execution_count": 8,
   "metadata": {},
   "outputs": [
    {
     "data": {
      "text/html": [
       "3"
      ],
      "text/latex": [
       "3"
      ],
      "text/markdown": [
       "3"
      ],
      "text/plain": [
       "[1] 3"
      ]
     },
     "metadata": {},
     "output_type": "display_data"
    }
   ],
   "source": [
    "# Specify no of parameter\n",
    "\n",
    "K <- ncol(x)\n",
    "K\n",
    "\n",
    "K1 <- K + 1 \n",
    "n <- nrow(x) # no of obs"
   ]
  },
  {
   "cell_type": "code",
   "execution_count": 9,
   "metadata": {},
   "outputs": [],
   "source": [
    " # log Likelihood function to be optimised\n",
    " \n",
    "llik.reg <- function(par,X,Y) {\n",
    "Y <- as.vector(y)\n",
    "X <- as.matrix(x)\n",
    "xbeta <- X%*%par[1:K]\n",
    "Sig <- par[K1:K1]\n",
    "  sum(-(1/2)*log(2*pi)-(1/2)*log(Sig^2)-(1/(2*Sig^2))*(y-xbeta)^2)\n",
    "}\n",
    "\n"
   ]
  },
  {
   "cell_type": "code",
   "execution_count": 10,
   "metadata": {},
   "outputs": [
    {
     "name": "stdout",
     "output_type": "stream",
     "text": [
      "initial  value 4300.442187 \n",
      "iter  10 value 2426.290175\n",
      "iter  20 value 1101.032278\n",
      "iter  30 value 938.236056\n",
      "final  value 938.235848 \n",
      "converged\n"
     ]
    }
   ],
   "source": [
    " # Estimation\n",
    "\n",
    "model <- optim(c(0,0,0,10),llik.reg, method = \"BFGS\", control = list(trace=1,maxit=100,fnscale = -1),hessian = TRUE)\n"
   ]
  },
  {
   "cell_type": "markdown",
   "metadata": {},
   "source": [
    "The coefficients from this model are the same as those produced through OLS estimation.(You may verify) "
   ]
  },
  {
   "cell_type": "code",
   "execution_count": 11,
   "metadata": {},
   "outputs": [],
   "source": [
    "# Calculate the variance matrix from the Hessian matrix. \n",
    "v <- -solve(model$hessian)\n"
   ]
  },
  {
   "cell_type": "code",
   "execution_count": 12,
   "metadata": {},
   "outputs": [],
   "source": [
    "# Calculate the standard errors from the variance matrix.\n",
    "\n",
    "se <- sqrt( diag(v))\n"
   ]
  },
  {
   "cell_type": "code",
   "execution_count": 13,
   "metadata": {},
   "outputs": [],
   "source": [
    "# Calculate the z statistics from the coefficients and standard errors\n",
    "b <- model$par"
   ]
  },
  {
   "cell_type": "code",
   "execution_count": 14,
   "metadata": {},
   "outputs": [],
   "source": [
    "zstat <-b/se\n"
   ]
  },
  {
   "cell_type": "code",
   "execution_count": 15,
   "metadata": {},
   "outputs": [],
   "source": [
    "# Calculate p-values for the z statistics\n",
    "\n",
    "pzstat <- 2* (1 - pnorm(abs(zstat)))\n"
   ]
  },
  {
   "cell_type": "code",
   "execution_count": 16,
   "metadata": {},
   "outputs": [
    {
     "data": {
      "text/html": [
       "<table>\n",
       "<caption>A matrix: 4 × 4 of type dbl</caption>\n",
       "<thead>\n",
       "\t<tr><th scope=col>b</th><th scope=col>se</th><th scope=col>zstat</th><th scope=col>pzstat</th></tr>\n",
       "</thead>\n",
       "<tbody>\n",
       "\t<tr><td>0.86745744</td><td>0.075245275</td><td>11.52840</td><td>0</td></tr>\n",
       "\t<tr><td>0.09322559</td><td>0.005039149</td><td>18.50027</td><td>0</td></tr>\n",
       "\t<tr><td>0.01310286</td><td>0.001162220</td><td>11.27399</td><td>0</td></tr>\n",
       "\t<tr><td>0.49175949</td><td>0.009559821</td><td>51.44024</td><td>0</td></tr>\n",
       "</tbody>\n",
       "</table>\n"
      ],
      "text/latex": [
       "A matrix: 4 × 4 of type dbl\n",
       "\\begin{tabular}{llll}\n",
       " b & se & zstat & pzstat\\\\\n",
       "\\hline\n",
       "\t 0.86745744 & 0.075245275 & 11.52840 & 0\\\\\n",
       "\t 0.09322559 & 0.005039149 & 18.50027 & 0\\\\\n",
       "\t 0.01310286 & 0.001162220 & 11.27399 & 0\\\\\n",
       "\t 0.49175949 & 0.009559821 & 51.44024 & 0\\\\\n",
       "\\end{tabular}\n"
      ],
      "text/markdown": [
       "\n",
       "A matrix: 4 × 4 of type dbl\n",
       "\n",
       "| b | se | zstat | pzstat |\n",
       "|---|---|---|---|\n",
       "| 0.86745744 | 0.075245275 | 11.52840 | 0 |\n",
       "| 0.09322559 | 0.005039149 | 18.50027 | 0 |\n",
       "| 0.01310286 | 0.001162220 | 11.27399 | 0 |\n",
       "| 0.49175949 | 0.009559821 | 51.44024 | 0 |\n",
       "\n"
      ],
      "text/plain": [
       "     b          se          zstat    pzstat\n",
       "[1,] 0.86745744 0.075245275 11.52840 0     \n",
       "[2,] 0.09322559 0.005039149 18.50027 0     \n",
       "[3,] 0.01310286 0.001162220 11.27399 0     \n",
       "[4,] 0.49175949 0.009559821 51.44024 0     "
      ]
     },
     "metadata": {},
     "output_type": "display_data"
    }
   ],
   "source": [
    "# Put the results together in a table.\n",
    "\n",
    "table <- cbind(b,se,zstat,pzstat)\n",
    "table\n",
    "\n",
    " "
   ]
  },
  {
   "cell_type": "markdown",
   "metadata": {
    "tags": []
   },
   "source": [
    "##  Predictive aspects\n",
    "### Naive benchmark forecast\n",
    "- The sample, or historical, mean of the dependent variable, $\\bar{y}$, an estimate of the unconditional mean of y, is a naive benchmark forecast. It is obtained by regressing y on an intercept alone { no conditioning on other regressors}.\n",
    "- The sample standard deviation of y is a measure of the in-sample accuracy of the unconditional mean forecast $\\bar{y}$.\n",
    "- Sample mean is just LS regression on nothing but an intercept.\n",
    "- Intercept picks up a \"level effect\"\n",
    "- Regression generalizes the sample mean to include predictors other than just a constant\n",
    "    - Conditional mean: \n",
    "$E(y_i|x_i=x^\\ast)=x'^\\ast \\beta$\n",
    "    - Conditional variance: \n",
    "$var(y_i|x_i=x^\\ast)=\\sigma^2$\n",
    "    - Full conditional density: \n",
    "$y_i|x_i=x^\\ast \\sim N(x'^\\ast \\beta,\\sigma^2)$"
   ]
  },
  {
   "cell_type": "markdown",
   "metadata": {
    "tags": []
   },
   "source": [
    "### Point Prediction\n",
    "If a new person $y_i$ arrives with characteristics $x_i=x^\\ast$, what is the best prediction of $y_i$\n",
    "**The conditional mean is the minimum MSE point predictor**\n",
    "- LS delivers operational optimal predictor with great generality\n",
    "- Follows immediately from the LS optimization problem\n",
    "\n",
    "Non-operational version (remember, in reality we don’t know $\\beta$):\n",
    "$$E(y_i|x_i=x^\\ast)=x^\\ast\\beta$$\n",
    "Operational version (use $\\hat{\\beta}_{LS})(regression fitted value at $x_i=x^\\ast$):\n",
    "$$E(y_i|x_i=x^\\ast)=x^\\ast\\hat{\\beta}$$\n",
    "\n",
    "Let us predict the wages of a person with **7** years of experience and **14** years of education"
   ]
  },
  {
   "cell_type": "code",
   "execution_count": 12,
   "metadata": {},
   "outputs": [
    {
     "data": {
      "text/html": [
       "<strong>1:</strong> 2.26431964903892"
      ],
      "text/latex": [
       "\\textbf{1:} 2.26431964903892"
      ],
      "text/markdown": [
       "**1:** 2.26431964903892"
      ],
      "text/plain": [
       "      1 \n",
       "2.26432 "
      ]
     },
     "metadata": {},
     "output_type": "display_data"
    }
   ],
   "source": [
    "reg1 <- lm(LNWAGE~EDUC + EXPER,data=wage95)\n",
    "s2<-summary(reg1)$sigma**2 # variance of the regression will be useful later\n",
    "mydf <- data.frame(EDUC=14,EXPER=7) # dataframe of New values of X matrix\n",
    "predict(reg1, mydf)# predicts LN(wages)"
   ]
  },
  {
   "cell_type": "markdown",
   "metadata": {},
   "source": [
    "In terms of actual wages this would be:"
   ]
  },
  {
   "cell_type": "code",
   "execution_count": 13,
   "metadata": {},
   "outputs": [
    {
     "data": {
      "text/html": [
       "<strong>1:</strong> 9.6245742847413"
      ],
      "text/latex": [
       "\\textbf{1:} 9.6245742847413"
      ],
      "text/markdown": [
       "**1:** 9.6245742847413"
      ],
      "text/plain": [
       "       1 \n",
       "9.624574 "
      ]
     },
     "metadata": {},
     "output_type": "display_data"
    }
   ],
   "source": [
    "exp(predict(reg1, mydf))"
   ]
  },
  {
   "cell_type": "markdown",
   "metadata": {
    "tags": []
   },
   "source": [
    "### Interval Prediction\n",
    "non-operational (with probability 0.95)\n",
    "$$y_i \\in [x^\\ast\\beta \\pm 1.96 \\sigma] $$\n",
    "operational(w.p. 0.95)\n",
    "$$y_i \\in [x^\\ast\\hat{\\beta} \\pm 1.96 s] $$"
   ]
  },
  {
   "cell_type": "code",
   "execution_count": 14,
   "metadata": {
    "tags": []
   },
   "outputs": [
    {
     "data": {
      "text/html": [
       "<table>\n",
       "<caption>A matrix: 1 × 3 of type dbl</caption>\n",
       "<thead>\n",
       "\t<tr><th scope=col>fit</th><th scope=col>lwr</th><th scope=col>upr</th></tr>\n",
       "</thead>\n",
       "<tbody>\n",
       "\t<tr><td>2.26432</td><td>1.297755</td><td>3.230884</td></tr>\n",
       "</tbody>\n",
       "</table>\n"
      ],
      "text/latex": [
       "A matrix: 1 × 3 of type dbl\n",
       "\\begin{tabular}{r|lll}\n",
       " fit & lwr & upr\\\\\n",
       "\\hline\n",
       "\t 2.26432 & 1.297755 & 3.230884\\\\\n",
       "\\end{tabular}\n"
      ],
      "text/markdown": [
       "\n",
       "A matrix: 1 × 3 of type dbl\n",
       "\n",
       "| fit | lwr | upr |\n",
       "|---|---|---|\n",
       "| 2.26432 | 1.297755 | 3.230884 |\n",
       "\n"
      ],
      "text/plain": [
       "  fit     lwr      upr     \n",
       "1 2.26432 1.297755 3.230884"
      ]
     },
     "metadata": {},
     "output_type": "display_data"
    }
   ],
   "source": [
    "predict(reg1, mydf,interval=\"predict\" ) # Interval of LNWAGES"
   ]
  },
  {
   "cell_type": "code",
   "execution_count": 15,
   "metadata": {
    "tags": []
   },
   "outputs": [
    {
     "data": {
      "text/html": [
       "<table>\n",
       "<caption>A matrix: 1 × 3 of type dbl</caption>\n",
       "<thead>\n",
       "\t<tr><th scope=col>fit</th><th scope=col>lwr</th><th scope=col>upr</th></tr>\n",
       "</thead>\n",
       "<tbody>\n",
       "\t<tr><td>9.624574</td><td>3.661069</td><td>25.30202</td></tr>\n",
       "</tbody>\n",
       "</table>\n"
      ],
      "text/latex": [
       "A matrix: 1 × 3 of type dbl\n",
       "\\begin{tabular}{r|lll}\n",
       " fit & lwr & upr\\\\\n",
       "\\hline\n",
       "\t 9.624574 & 3.661069 & 25.30202\\\\\n",
       "\\end{tabular}\n"
      ],
      "text/markdown": [
       "\n",
       "A matrix: 1 × 3 of type dbl\n",
       "\n",
       "| fit | lwr | upr |\n",
       "|---|---|---|\n",
       "| 9.624574 | 3.661069 | 25.30202 |\n",
       "\n"
      ],
      "text/plain": [
       "  fit      lwr      upr     \n",
       "1 9.624574 3.661069 25.30202"
      ]
     },
     "metadata": {},
     "output_type": "display_data"
    }
   ],
   "source": [
    "exp(predict(reg1, mydf,interval=\"predict\" ))"
   ]
  },
  {
   "cell_type": "markdown",
   "metadata": {
    "tags": []
   },
   "source": [
    "### Density Prediction\n",
    "Density Prediction\"\n",
    "Non-operational version:\n",
    "$$y_i|x_i=x^\\ast \\sim N(x^\\ast \\beta, \\sigma^2)$$\n",
    "Operational version:\n",
    "$$y_i|x_i=x^\\ast \\sim N(x^\\ast \\hat{\\beta}, s^2)$$\n",
    "#### Simulation Algorithm for Feasible Density Prediction With Normality\n",
    "Consider a density forecast for a person $i$ with characteristics$X=X*$(Its the dataframe_mydf_ in our case"
   ]
  },
  {
   "cell_type": "markdown",
   "metadata": {
    "tags": []
   },
   "source": [
    "1. Take R draws from $N(0,s^2)$."
   ]
  },
  {
   "cell_type": "code",
   "execution_count": 28,
   "metadata": {},
   "outputs": [],
   "source": [
    "step1<- rnorm(1000, 0, s2)"
   ]
  },
  {
   "cell_type": "markdown",
   "metadata": {
    "tags": []
   },
   "source": [
    "2. Add $X^{*\\prime}\\hat{\\beta}$ to each disturbance draw."
   ]
  },
  {
   "cell_type": "code",
   "execution_count": 29,
   "metadata": {},
   "outputs": [],
   "source": [
    "step2<- step1+predict(reg1, mydf)"
   ]
  },
  {
   "cell_type": "markdown",
   "metadata": {
    "tags": []
   },
   "source": [
    "3. Form a density forecast by fitting a density (or histogram) to the output from step2 above"
   ]
  },
  {
   "cell_type": "code",
   "execution_count": 30,
   "metadata": {},
   "outputs": [
    {
     "data": {
      "image/png": "[encoded data removed]",
      "text/plain": [
       "plot without title"
      ]
     },
     "metadata": {
      "image/png": {
       "height": 420,
       "width": 420
      },
      "text/plain": {
       "height": 420,
       "width": 420
      }
     },
     "output_type": "display_data"
    }
   ],
   "source": [
    "df <- data.frame(\n",
    "  forecast = step2\n",
    " )\n",
    "\n",
    "step3 <- ggplot(df, aes(x=forecast)) + \n",
    "  geom_density()+geom_vline(aes(xintercept=mean(forecast)),\n",
    "            color=\"blue\", linetype=\"dashed\", size=1)\n",
    "step3"
   ]
  },
  {
   "cell_type": "markdown",
   "metadata": {
    "tags": []
   },
   "source": [
    "You can also form an interval forecast (95%, say) by sorting the output from step 2 to get the empirical cdf, and taking the left and right intervalend points as the the .025% and .975% values, respectively. Plot of emprical CDF of the predicted value is given below"
   ]
  },
  {
   "cell_type": "code",
   "execution_count": 31,
   "metadata": {},
   "outputs": [
    {
     "data": {
      "image/png": "[encoded data removed]",
      "text/plain": [
       "plot without title"
      ]
     },
     "metadata": {
      "image/png": {
       "height": 420,
       "width": 420
      },
      "text/plain": {
       "height": 420,
       "width": 420
      }
     },
     "output_type": "display_data"
    }
   ],
   "source": [
    "step4 <-ggplot(df, aes(forecast)) + stat_ecdf(geom = \"step\")\n",
    "step4"
   ]
  },
  {
   "cell_type": "markdown",
   "metadata": {},
   "source": [
    "#### Simulation Algorithm for Feasible Density Prediction Without Normality\n",
    "1. Take R disturbance draws by assigning probability $\\frac{1}{N}$ to each regression residual and sampling with replacement."
   ]
  },
  {
   "cell_type": "code",
   "execution_count": 32,
   "metadata": {},
   "outputs": [],
   "source": [
    "resi_reg1 <- resid(reg1)# get the residuals\n",
    "nobs <- length(resi_reg1)# N- no of observation\n",
    "prob1 <- rep(1/nobs,nobs)\n",
    "sresi <- sample(resi_reg1,1000,replace=TRUE, prob=prob1)"
   ]
  },
  {
   "cell_type": "markdown",
   "metadata": {},
   "source": [
    "2. Add $X^{*\\prime}\\hat{\\beta}$ to each draw."
   ]
  },
  {
   "cell_type": "code",
   "execution_count": 33,
   "metadata": {},
   "outputs": [],
   "source": [
    "step2_2 <- sresi+predict(reg1, mydf)"
   ]
  },
  {
   "cell_type": "markdown",
   "metadata": {},
   "source": [
    "3. Form a density forecast by fitting a density to the output from step 2"
   ]
  },
  {
   "cell_type": "code",
   "execution_count": 34,
   "metadata": {},
   "outputs": [
    {
     "data": {
      "image/png": "[encoded data removed]",
      "text/plain": [
       "plot without title"
      ]
     },
     "metadata": {
      "image/png": {
       "height": 420,
       "width": 420
      },
      "text/plain": {
       "height": 420,
       "width": 420
      }
     },
     "output_type": "display_data"
    }
   ],
   "source": [
    "df1 <- data.frame(\n",
    "  forecast = step2_2\n",
    " )\n",
    "\n",
    "step3_2 <- ggplot(df1, aes(x=forecast)) + \n",
    "  geom_density()+geom_vline(aes(xintercept=mean(forecast)),\n",
    "            color=\"blue\", linetype=\"dashed\", size=1)\n",
    "step3_2"
   ]
  },
  {
   "cell_type": "markdown",
   "metadata": {
    "tags": []
   },
   "source": [
    "\n",
    "- The OLS fitted values, $\\hat{y}_i = x_i\\hat{\\beta}$, are effectively in-sample regression predictions.\n",
    "- OLS coefficient signs and sizes give the weights put on the various x variables in forming the best in-sample prediction of y.\n",
    "- The standard errors, t statistics, and p-values let us do statistical inference as to which regressors are most relevant for predicting y.\n",
    "- The OLS residuals, $e_i = y_i − \\hat{y}_i$, are effectively in-sample prediction errors corresponding to use of the regression predictions.\n",
    "- SSR that we discussed earlier measures \"total\" in-sample predictive accuracy or \"squared-error loss\" or \"quadratic loss\"\n",
    "- SSR is closely related to in-sample mean squared prediction error(MSE):$$MSE=\\frac{1}{N}SSR$$\n",
    "- The F statistic effectively compares the accuracy of the regression-based forecast to that of the unconditional-mean forecast.\n",
    "- Helps us assess whether the $X$ variables, taken as a set, have predictive value for $Y$.\n",
    "- Contrasts with the $t$ statistics, which assess predictive value of the $X$ variables one at a time."
   ]
  }
 ],
 "metadata": {
  "_draft": {
   "nbviewer_url": "https://gist.github.com/86003b4990fe6d5515825e62a2d662c1"
  },
  "gist": {
   "data": {
    "description": "RegBas1.ipynb",
    "public": true
   },
   "id": "86003b4990fe6d5515825e62a2d662c1"
  },
  "kernelspec": {
   "display_name": "R 4.2.2",
   "language": "R",
   "name": "ir42"
  },
  "language_info": {
   "codemirror_mode": "r",
   "file_extension": ".r",
   "mimetype": "text/x-r-source",
   "name": "R",
   "pygments_lexer": "r",
   "version": "4.2.2"
  },
  "latex_envs": {
   "LaTeX_envs_menu_present": true,
   "autoclose": false,
   "autocomplete": true,
   "bibliofile": "biblio.bib",
   "cite_by": "apalike",
   "current_citInitial": 1,
   "eqLabelWithNumbers": true,
   "eqNumInitial": 1,
   "hotkeys": {
    "equation": "Ctrl-E",
    "itemize": "Ctrl-I"
   },
   "labels_anchors": false,
   "latex_user_defs": false,
   "report_style_numbering": false,
   "user_envs_cfg": false
  },
  "toc": {
   "base_numbering": 1,
   "nav_menu": {},
   "number_sections": true,
   "sideBar": true,
   "skip_h1_title": true,
   "title_cell": "Table of Contents",
   "title_sidebar": "Contents",
   "toc_cell": false,
   "toc_position": {
    "height": "462.211px",
    "left": "1060px",
    "top": "138.926px",
    "width": "237.434px"
   },
   "toc_section_display": true,
   "toc_window_display": false
  }
 },
 "nbformat": 4,
 "nbformat_minor": 4
}
